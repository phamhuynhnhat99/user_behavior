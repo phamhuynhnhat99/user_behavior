{
 "cells": [
  {
   "cell_type": "code",
   "execution_count": 1,
   "id": "f8d35db6",
   "metadata": {},
   "outputs": [
    {
     "name": "stdout",
     "output_type": "stream",
     "text": [
      "Hello world\n"
     ]
    }
   ],
   "source": [
    "print(\"Hello world\")"
   ]
  },
  {
   "cell_type": "code",
   "execution_count": 2,
   "id": "dd1bc25e",
   "metadata": {},
   "outputs": [],
   "source": [
    "import plotly\n",
    "import plotly.express as px\n",
    "import pandas as pd"
   ]
  },
  {
   "cell_type": "code",
   "execution_count": 3,
   "id": "91865761",
   "metadata": {},
   "outputs": [],
   "source": [
    "# end = -1\n",
    "\n",
    "end = \"end\""
   ]
  },
  {
   "cell_type": "code",
   "execution_count": 4,
   "id": "a781b99f",
   "metadata": {},
   "outputs": [],
   "source": [
    "# discover = 0\n",
    "# profile = 0\n",
    "# project = 0\n",
    "\n",
    "discover = \"discover\"\n",
    "profile = \"profile\"\n",
    "project = \"project\""
   ]
  },
  {
   "cell_type": "code",
   "execution_count": 5,
   "id": "17382656",
   "metadata": {},
   "outputs": [],
   "source": [
    "# camera = 1\n",
    "# photos = 1\n",
    "# samples = 1\n",
    "# upgrade = 1\n",
    "# collection = 1\n",
    "\n",
    "camera = \"camera\"\n",
    "photos = \"photos\"\n",
    "samples = \"samples\"\n",
    "upgrade = \"upgrade\"\n",
    "collection = \"collection\""
   ]
  },
  {
   "cell_type": "code",
   "execution_count": 6,
   "id": "c334fd03",
   "metadata": {},
   "outputs": [],
   "source": [
    "# usephoto = 3\n",
    "usephoto = \"usephoto\""
   ]
  },
  {
   "cell_type": "code",
   "execution_count": 7,
   "id": "42fc9c15",
   "metadata": {},
   "outputs": [],
   "source": [
    "# nextbutton = 4\n",
    "# nextremove = 4\n",
    "# removebackground = 4\n",
    "# crop = 4\n",
    "\n",
    "nextbutton = \"nextbutton\"\n",
    "nextremove = \"nextremove\"\n",
    "removebackground = \"removebackground\"\n",
    "crop = \"crop\""
   ]
  },
  {
   "cell_type": "code",
   "execution_count": 8,
   "id": "9fb30c70",
   "metadata": {},
   "outputs": [],
   "source": [
    "# editor = 5\n",
    "editor = \"editor\""
   ]
  },
  {
   "cell_type": "code",
   "execution_count": 9,
   "id": "f21125b6",
   "metadata": {},
   "outputs": [],
   "source": [
    "# share = 6\n",
    "# editorback = 6\n",
    "\n",
    "share = \"share\"\n",
    "editorback = \"editorback\""
   ]
  },
  {
   "cell_type": "code",
   "execution_count": 10,
   "id": "c7a3f3a4",
   "metadata": {},
   "outputs": [],
   "source": [
    "# editorbackcancel = 7\n",
    "# saveimage = 7\n",
    "# saveproject = 7\n",
    "# shared = 7\n",
    "\n",
    "editorbackcancel = \"editorbackcancel\"\n",
    "saveimage = \"saveimage\"\n",
    "saveproject = \"saveproject\"\n",
    "shared = \"shared\""
   ]
  },
  {
   "cell_type": "code",
   "execution_count": 68,
   "id": "92853983",
   "metadata": {},
   "outputs": [],
   "source": [
    "multi = 1000"
   ]
  },
  {
   "cell_type": "code",
   "execution_count": 69,
   "id": "1f4d68a9",
   "metadata": {},
   "outputs": [],
   "source": [
    "t00 = [[discover, end]] * 20 * multi\n",
    "\n",
    "t01 = [[discover, profile, discover, camera, end]] * 2 * multi\n",
    "t02 = [[discover, profile, discover, photos, end]] * 2 * multi\n",
    "t03 = [[discover, profile, end]] * 1 * multi\n",
    "\n",
    "t04 = [[discover, project, discover, end]] * 70 * multi\n",
    "t05 = [[discover, project, collection, project, discover, end]] * 5 * multi\n",
    "\n",
    "t06 = [[discover, upgrade, end]] * 20 * multi\n",
    "\n",
    "t07 = [[discover, samples, editor, end]] * 80 * multi\n",
    "\n",
    "t08 = [[discover, camera, end]] * 400 * multi\n",
    "t09 = [[discover, camera, discover, end]] * 10 * multi\n",
    "t10 = [[discover, camera, discover, photos, end]] * 40 * multi\n",
    "\n",
    "t11 = [[discover, photos, end]] * 10 * multi\n",
    "t12 = [[discover, photos, usephoto, discover, end]] * 10 * multi\n",
    "t13 = [[discover, photos, usephoto, nextbutton, editor, share, saveimage, end]] * 10 * multi\n",
    "t14 = [[discover, photos, usephoto, nextbutton, crop, editor, end]] * 10 * multi\n",
    "t15 = [[discover, photos, usephoto, nextbutton, crop, editor, editorback, saveproject, end]] * 30 * multi\n",
    "t16 = [[discover, photos, usephoto, nextbutton, crop, editor, editorback, discover, end]] * 30 * multi\n",
    "t17 = [[discover, photos, usephoto, removebackground, end]] * 40 * multi\n",
    "t18 = [[discover, photos, usephoto, removebackground, nextremove, crop, editor, end]] * 20 * multi\n",
    "t19 = [[discover, photos, usephoto, removebackground, nextremove, crop, editor, share, shared, end]] * 20 * multi\n",
    "t20 = [[discover, photos, usephoto, removebackground, nextremove, editor, end]] * 20 * multi\n",
    "t21 = [[discover, photos, usephoto, removebackground, nextremove, editor, editor, editor, end]] * 20 * multi\n",
    "t22 = [[discover, photos, usephoto, removebackground, nextremove, editor, editor, editor, editor, end]] * 10 * multi\n",
    "t23 = [[discover, photos, usephoto, removebackground, nextremove, editor, editor, editor, editor, editorback, editorbackcancel, end]] * 10 * multi\n",
    "t24 = [[discover, photos, usephoto, removebackground, nextremove, editor, editor, editor, editor, share, editor, end]] * 10 * multi\n",
    "t25 = [[discover, photos, usephoto, removebackground, nextremove, editor, editor, editor, editor, share, saveimage, end]] * 100 * multi"
   ]
  },
  {
   "cell_type": "code",
   "execution_count": 70,
   "id": "eaa2bc54",
   "metadata": {},
   "outputs": [
    {
     "data": {
      "text/plain": [
       "1000000"
      ]
     },
     "execution_count": 70,
     "metadata": {},
     "output_type": "execute_result"
    }
   ],
   "source": [
    "sessions = t00 + t01 + t02 + t03 + t04 + t05 + t06 + t07 + t08 + t09 + t10\n",
    "sessions = sessions + t11 + t12 + t13 + t14 + t15 + t16 + t17 + t18 + t19 + t20\n",
    "sessions = sessions + t21 + t22 + t23 + t24 + t25\n",
    "len(sessions)"
   ]
  },
  {
   "cell_type": "code",
   "execution_count": 71,
   "id": "9a38eddc",
   "metadata": {},
   "outputs": [],
   "source": [
    "class UserBehavior:\n",
    "    \n",
    "    def __init__(self, sessions):\n",
    "        self.sessions = sessions\n",
    "        self.no_sessions = len(sessions)\n",
    "        \n",
    "    \n",
    "    def constructor(self):\n",
    "        tmp = 0\n",
    "        for session in self.sessions:\n",
    "            if len(session) > tmp:\n",
    "                tmp = len(session)\n",
    "        self.max_level = tmp - 1\n",
    "        \n",
    "    \n",
    "    def group_by_route(self, route):\n",
    "        res = []\n",
    "        for session in self.sessions:\n",
    "            if len(session) < len(route):\n",
    "                continue\n",
    "            top = session[:len(route)]\n",
    "            if top == route:\n",
    "                res.append(session)\n",
    "        return res\n",
    "    \n",
    "    \n",
    "    def session_occupancy(self, max_level):\n",
    "        \n",
    "        def next_step(route, ind):\n",
    "            candidates = self.group_by_route(route)\n",
    "            next_action = [candidate[ind] for candidate in candidates]\n",
    "            unique_next_action = list(set(next_action))\n",
    "            for action in unique_next_action:\n",
    "                new_route = route + [action]\n",
    "                count_action = next_action.count(action)\n",
    "                if ind < max_level:\n",
    "                    occupancy = count_action / self.no_sessions * 100\n",
    "                    new_route_plus = new_route + [\" \"] * (max_level - len(new_route)) + [occupancy]\n",
    "                    level[ind].append(new_route_plus)\n",
    "                if action == end:\n",
    "                    occupancy = count_action / self.no_sessions * 100\n",
    "                else:\n",
    "                    next_step(new_route, ind = ind + 1)\n",
    "        \n",
    "        level = dict()\n",
    "        for i in range(max_level):\n",
    "            level[i] = list()\n",
    "        base_route = [discover]\n",
    "        base_route_plus = base_route + [\" \"] * (max_level - 1) + [100.0]\n",
    "        level[0].append(base_route_plus)\n",
    "        \n",
    "        next_step(base_route, ind = 1)\n",
    "        \n",
    "        return level"
   ]
  },
  {
   "cell_type": "code",
   "execution_count": 72,
   "id": "21bff131",
   "metadata": {},
   "outputs": [],
   "source": [
    "user_behavior = UserBehavior(sessions)\n",
    "user_behavior.constructor()"
   ]
  },
  {
   "cell_type": "code",
   "execution_count": 79,
   "id": "31088f77",
   "metadata": {
    "scrolled": true
   },
   "outputs": [
    {
     "data": {
      "text/html": [
       "<div>\n",
       "<style scoped>\n",
       "    .dataframe tbody tr th:only-of-type {\n",
       "        vertical-align: middle;\n",
       "    }\n",
       "\n",
       "    .dataframe tbody tr th {\n",
       "        vertical-align: top;\n",
       "    }\n",
       "\n",
       "    .dataframe thead th {\n",
       "        text-align: right;\n",
       "    }\n",
       "</style>\n",
       "<table border=\"1\" class=\"dataframe\">\n",
       "  <thead>\n",
       "    <tr style=\"text-align: right;\">\n",
       "      <th></th>\n",
       "      <th>0</th>\n",
       "      <th>1</th>\n",
       "      <th>2</th>\n",
       "      <th>3</th>\n",
       "      <th>4</th>\n",
       "      <th>5</th>\n",
       "      <th>6</th>\n",
       "      <th>7</th>\n",
       "      <th>8</th>\n",
       "      <th>9</th>\n",
       "      <th>10</th>\n",
       "      <th>11</th>\n",
       "      <th>occupancy</th>\n",
       "    </tr>\n",
       "  </thead>\n",
       "  <tbody>\n",
       "    <tr>\n",
       "      <th>0</th>\n",
       "      <td>discover</td>\n",
       "      <td>end</td>\n",
       "      <td></td>\n",
       "      <td></td>\n",
       "      <td></td>\n",
       "      <td></td>\n",
       "      <td></td>\n",
       "      <td></td>\n",
       "      <td></td>\n",
       "      <td></td>\n",
       "      <td></td>\n",
       "      <td></td>\n",
       "      <td>2.0</td>\n",
       "    </tr>\n",
       "    <tr>\n",
       "      <th>1</th>\n",
       "      <td>discover</td>\n",
       "      <td>photos</td>\n",
       "      <td>end</td>\n",
       "      <td></td>\n",
       "      <td></td>\n",
       "      <td></td>\n",
       "      <td></td>\n",
       "      <td></td>\n",
       "      <td></td>\n",
       "      <td></td>\n",
       "      <td></td>\n",
       "      <td></td>\n",
       "      <td>1.0</td>\n",
       "    </tr>\n",
       "    <tr>\n",
       "      <th>2</th>\n",
       "      <td>discover</td>\n",
       "      <td>camera</td>\n",
       "      <td>end</td>\n",
       "      <td></td>\n",
       "      <td></td>\n",
       "      <td></td>\n",
       "      <td></td>\n",
       "      <td></td>\n",
       "      <td></td>\n",
       "      <td></td>\n",
       "      <td></td>\n",
       "      <td></td>\n",
       "      <td>40.0</td>\n",
       "    </tr>\n",
       "    <tr>\n",
       "      <th>3</th>\n",
       "      <td>discover</td>\n",
       "      <td>upgrade</td>\n",
       "      <td>end</td>\n",
       "      <td></td>\n",
       "      <td></td>\n",
       "      <td></td>\n",
       "      <td></td>\n",
       "      <td></td>\n",
       "      <td></td>\n",
       "      <td></td>\n",
       "      <td></td>\n",
       "      <td></td>\n",
       "      <td>2.0</td>\n",
       "    </tr>\n",
       "    <tr>\n",
       "      <th>4</th>\n",
       "      <td>discover</td>\n",
       "      <td>profile</td>\n",
       "      <td>end</td>\n",
       "      <td></td>\n",
       "      <td></td>\n",
       "      <td></td>\n",
       "      <td></td>\n",
       "      <td></td>\n",
       "      <td></td>\n",
       "      <td></td>\n",
       "      <td></td>\n",
       "      <td></td>\n",
       "      <td>0.1</td>\n",
       "    </tr>\n",
       "    <tr>\n",
       "      <th>5</th>\n",
       "      <td>discover</td>\n",
       "      <td>samples</td>\n",
       "      <td>editor</td>\n",
       "      <td>end</td>\n",
       "      <td></td>\n",
       "      <td></td>\n",
       "      <td></td>\n",
       "      <td></td>\n",
       "      <td></td>\n",
       "      <td></td>\n",
       "      <td></td>\n",
       "      <td></td>\n",
       "      <td>8.0</td>\n",
       "    </tr>\n",
       "    <tr>\n",
       "      <th>6</th>\n",
       "      <td>discover</td>\n",
       "      <td>camera</td>\n",
       "      <td>discover</td>\n",
       "      <td>end</td>\n",
       "      <td></td>\n",
       "      <td></td>\n",
       "      <td></td>\n",
       "      <td></td>\n",
       "      <td></td>\n",
       "      <td></td>\n",
       "      <td></td>\n",
       "      <td></td>\n",
       "      <td>1.0</td>\n",
       "    </tr>\n",
       "    <tr>\n",
       "      <th>7</th>\n",
       "      <td>discover</td>\n",
       "      <td>project</td>\n",
       "      <td>discover</td>\n",
       "      <td>end</td>\n",
       "      <td></td>\n",
       "      <td></td>\n",
       "      <td></td>\n",
       "      <td></td>\n",
       "      <td></td>\n",
       "      <td></td>\n",
       "      <td></td>\n",
       "      <td></td>\n",
       "      <td>7.0</td>\n",
       "    </tr>\n",
       "    <tr>\n",
       "      <th>8</th>\n",
       "      <td>discover</td>\n",
       "      <td>photos</td>\n",
       "      <td>usephoto</td>\n",
       "      <td>removebackground</td>\n",
       "      <td>end</td>\n",
       "      <td></td>\n",
       "      <td></td>\n",
       "      <td></td>\n",
       "      <td></td>\n",
       "      <td></td>\n",
       "      <td></td>\n",
       "      <td></td>\n",
       "      <td>4.0</td>\n",
       "    </tr>\n",
       "    <tr>\n",
       "      <th>9</th>\n",
       "      <td>discover</td>\n",
       "      <td>photos</td>\n",
       "      <td>usephoto</td>\n",
       "      <td>discover</td>\n",
       "      <td>end</td>\n",
       "      <td></td>\n",
       "      <td></td>\n",
       "      <td></td>\n",
       "      <td></td>\n",
       "      <td></td>\n",
       "      <td></td>\n",
       "      <td></td>\n",
       "      <td>1.0</td>\n",
       "    </tr>\n",
       "    <tr>\n",
       "      <th>10</th>\n",
       "      <td>discover</td>\n",
       "      <td>camera</td>\n",
       "      <td>discover</td>\n",
       "      <td>photos</td>\n",
       "      <td>end</td>\n",
       "      <td></td>\n",
       "      <td></td>\n",
       "      <td></td>\n",
       "      <td></td>\n",
       "      <td></td>\n",
       "      <td></td>\n",
       "      <td></td>\n",
       "      <td>4.0</td>\n",
       "    </tr>\n",
       "    <tr>\n",
       "      <th>11</th>\n",
       "      <td>discover</td>\n",
       "      <td>profile</td>\n",
       "      <td>discover</td>\n",
       "      <td>photos</td>\n",
       "      <td>end</td>\n",
       "      <td></td>\n",
       "      <td></td>\n",
       "      <td></td>\n",
       "      <td></td>\n",
       "      <td></td>\n",
       "      <td></td>\n",
       "      <td></td>\n",
       "      <td>0.2</td>\n",
       "    </tr>\n",
       "    <tr>\n",
       "      <th>12</th>\n",
       "      <td>discover</td>\n",
       "      <td>profile</td>\n",
       "      <td>discover</td>\n",
       "      <td>camera</td>\n",
       "      <td>end</td>\n",
       "      <td></td>\n",
       "      <td></td>\n",
       "      <td></td>\n",
       "      <td></td>\n",
       "      <td></td>\n",
       "      <td></td>\n",
       "      <td></td>\n",
       "      <td>0.2</td>\n",
       "    </tr>\n",
       "    <tr>\n",
       "      <th>13</th>\n",
       "      <td>discover</td>\n",
       "      <td>project</td>\n",
       "      <td>collection</td>\n",
       "      <td>project</td>\n",
       "      <td>discover</td>\n",
       "      <td>end</td>\n",
       "      <td></td>\n",
       "      <td></td>\n",
       "      <td></td>\n",
       "      <td></td>\n",
       "      <td></td>\n",
       "      <td></td>\n",
       "      <td>0.5</td>\n",
       "    </tr>\n",
       "    <tr>\n",
       "      <th>14</th>\n",
       "      <td>discover</td>\n",
       "      <td>photos</td>\n",
       "      <td>usephoto</td>\n",
       "      <td>removebackground</td>\n",
       "      <td>nextremove</td>\n",
       "      <td>editor</td>\n",
       "      <td>end</td>\n",
       "      <td></td>\n",
       "      <td></td>\n",
       "      <td></td>\n",
       "      <td></td>\n",
       "      <td></td>\n",
       "      <td>2.0</td>\n",
       "    </tr>\n",
       "    <tr>\n",
       "      <th>15</th>\n",
       "      <td>discover</td>\n",
       "      <td>photos</td>\n",
       "      <td>usephoto</td>\n",
       "      <td>nextbutton</td>\n",
       "      <td>crop</td>\n",
       "      <td>editor</td>\n",
       "      <td>end</td>\n",
       "      <td></td>\n",
       "      <td></td>\n",
       "      <td></td>\n",
       "      <td></td>\n",
       "      <td></td>\n",
       "      <td>1.0</td>\n",
       "    </tr>\n",
       "    <tr>\n",
       "      <th>16</th>\n",
       "      <td>discover</td>\n",
       "      <td>photos</td>\n",
       "      <td>usephoto</td>\n",
       "      <td>removebackground</td>\n",
       "      <td>nextremove</td>\n",
       "      <td>crop</td>\n",
       "      <td>editor</td>\n",
       "      <td>end</td>\n",
       "      <td></td>\n",
       "      <td></td>\n",
       "      <td></td>\n",
       "      <td></td>\n",
       "      <td>2.0</td>\n",
       "    </tr>\n",
       "    <tr>\n",
       "      <th>17</th>\n",
       "      <td>discover</td>\n",
       "      <td>photos</td>\n",
       "      <td>usephoto</td>\n",
       "      <td>nextbutton</td>\n",
       "      <td>editor</td>\n",
       "      <td>share</td>\n",
       "      <td>saveimage</td>\n",
       "      <td>end</td>\n",
       "      <td></td>\n",
       "      <td></td>\n",
       "      <td></td>\n",
       "      <td></td>\n",
       "      <td>1.0</td>\n",
       "    </tr>\n",
       "    <tr>\n",
       "      <th>18</th>\n",
       "      <td>discover</td>\n",
       "      <td>photos</td>\n",
       "      <td>usephoto</td>\n",
       "      <td>removebackground</td>\n",
       "      <td>nextremove</td>\n",
       "      <td>editor</td>\n",
       "      <td>editor</td>\n",
       "      <td>editor</td>\n",
       "      <td>end</td>\n",
       "      <td></td>\n",
       "      <td></td>\n",
       "      <td></td>\n",
       "      <td>2.0</td>\n",
       "    </tr>\n",
       "    <tr>\n",
       "      <th>19</th>\n",
       "      <td>discover</td>\n",
       "      <td>photos</td>\n",
       "      <td>usephoto</td>\n",
       "      <td>nextbutton</td>\n",
       "      <td>crop</td>\n",
       "      <td>editor</td>\n",
       "      <td>editorback</td>\n",
       "      <td>saveproject</td>\n",
       "      <td>end</td>\n",
       "      <td></td>\n",
       "      <td></td>\n",
       "      <td></td>\n",
       "      <td>3.0</td>\n",
       "    </tr>\n",
       "    <tr>\n",
       "      <th>20</th>\n",
       "      <td>discover</td>\n",
       "      <td>photos</td>\n",
       "      <td>usephoto</td>\n",
       "      <td>nextbutton</td>\n",
       "      <td>crop</td>\n",
       "      <td>editor</td>\n",
       "      <td>editorback</td>\n",
       "      <td>discover</td>\n",
       "      <td>end</td>\n",
       "      <td></td>\n",
       "      <td></td>\n",
       "      <td></td>\n",
       "      <td>3.0</td>\n",
       "    </tr>\n",
       "    <tr>\n",
       "      <th>21</th>\n",
       "      <td>discover</td>\n",
       "      <td>photos</td>\n",
       "      <td>usephoto</td>\n",
       "      <td>removebackground</td>\n",
       "      <td>nextremove</td>\n",
       "      <td>editor</td>\n",
       "      <td>editor</td>\n",
       "      <td>editor</td>\n",
       "      <td>editor</td>\n",
       "      <td>end</td>\n",
       "      <td></td>\n",
       "      <td></td>\n",
       "      <td>1.0</td>\n",
       "    </tr>\n",
       "    <tr>\n",
       "      <th>22</th>\n",
       "      <td>discover</td>\n",
       "      <td>photos</td>\n",
       "      <td>usephoto</td>\n",
       "      <td>removebackground</td>\n",
       "      <td>nextremove</td>\n",
       "      <td>crop</td>\n",
       "      <td>editor</td>\n",
       "      <td>share</td>\n",
       "      <td>shared</td>\n",
       "      <td>end</td>\n",
       "      <td></td>\n",
       "      <td></td>\n",
       "      <td>2.0</td>\n",
       "    </tr>\n",
       "    <tr>\n",
       "      <th>23</th>\n",
       "      <td>discover</td>\n",
       "      <td>photos</td>\n",
       "      <td>usephoto</td>\n",
       "      <td>removebackground</td>\n",
       "      <td>nextremove</td>\n",
       "      <td>editor</td>\n",
       "      <td>editor</td>\n",
       "      <td>editor</td>\n",
       "      <td>editor</td>\n",
       "      <td>editorback</td>\n",
       "      <td>editorbackcancel</td>\n",
       "      <td>end</td>\n",
       "      <td>1.0</td>\n",
       "    </tr>\n",
       "    <tr>\n",
       "      <th>24</th>\n",
       "      <td>discover</td>\n",
       "      <td>photos</td>\n",
       "      <td>usephoto</td>\n",
       "      <td>removebackground</td>\n",
       "      <td>nextremove</td>\n",
       "      <td>editor</td>\n",
       "      <td>editor</td>\n",
       "      <td>editor</td>\n",
       "      <td>editor</td>\n",
       "      <td>share</td>\n",
       "      <td>saveimage</td>\n",
       "      <td>end</td>\n",
       "      <td>10.0</td>\n",
       "    </tr>\n",
       "    <tr>\n",
       "      <th>25</th>\n",
       "      <td>discover</td>\n",
       "      <td>photos</td>\n",
       "      <td>usephoto</td>\n",
       "      <td>removebackground</td>\n",
       "      <td>nextremove</td>\n",
       "      <td>editor</td>\n",
       "      <td>editor</td>\n",
       "      <td>editor</td>\n",
       "      <td>editor</td>\n",
       "      <td>share</td>\n",
       "      <td>editor</td>\n",
       "      <td>end</td>\n",
       "      <td>1.0</td>\n",
       "    </tr>\n",
       "  </tbody>\n",
       "</table>\n",
       "</div>"
      ],
      "text/plain": [
       "           0        1           2                 3           4       5  \\\n",
       "0   discover      end                                                     \n",
       "1   discover   photos         end                                         \n",
       "2   discover   camera         end                                         \n",
       "3   discover  upgrade         end                                         \n",
       "4   discover  profile         end                                         \n",
       "5   discover  samples      editor               end                       \n",
       "6   discover   camera    discover               end                       \n",
       "7   discover  project    discover               end                       \n",
       "8   discover   photos    usephoto  removebackground         end           \n",
       "9   discover   photos    usephoto          discover         end           \n",
       "10  discover   camera    discover            photos         end           \n",
       "11  discover  profile    discover            photos         end           \n",
       "12  discover  profile    discover            camera         end           \n",
       "13  discover  project  collection           project    discover     end   \n",
       "14  discover   photos    usephoto  removebackground  nextremove  editor   \n",
       "15  discover   photos    usephoto        nextbutton        crop  editor   \n",
       "16  discover   photos    usephoto  removebackground  nextremove    crop   \n",
       "17  discover   photos    usephoto        nextbutton      editor   share   \n",
       "18  discover   photos    usephoto  removebackground  nextremove  editor   \n",
       "19  discover   photos    usephoto        nextbutton        crop  editor   \n",
       "20  discover   photos    usephoto        nextbutton        crop  editor   \n",
       "21  discover   photos    usephoto  removebackground  nextremove  editor   \n",
       "22  discover   photos    usephoto  removebackground  nextremove    crop   \n",
       "23  discover   photos    usephoto  removebackground  nextremove  editor   \n",
       "24  discover   photos    usephoto  removebackground  nextremove  editor   \n",
       "25  discover   photos    usephoto  removebackground  nextremove  editor   \n",
       "\n",
       "             6            7       8           9                10   11  \\\n",
       "0                                                                        \n",
       "1                                                                        \n",
       "2                                                                        \n",
       "3                                                                        \n",
       "4                                                                        \n",
       "5                                                                        \n",
       "6                                                                        \n",
       "7                                                                        \n",
       "8                                                                        \n",
       "9                                                                        \n",
       "10                                                                       \n",
       "11                                                                       \n",
       "12                                                                       \n",
       "13                                                                       \n",
       "14         end                                                           \n",
       "15         end                                                           \n",
       "16      editor          end                                              \n",
       "17   saveimage          end                                              \n",
       "18      editor       editor     end                                      \n",
       "19  editorback  saveproject     end                                      \n",
       "20  editorback     discover     end                                      \n",
       "21      editor       editor  editor         end                          \n",
       "22      editor        share  shared         end                          \n",
       "23      editor       editor  editor  editorback  editorbackcancel  end   \n",
       "24      editor       editor  editor       share         saveimage  end   \n",
       "25      editor       editor  editor       share            editor  end   \n",
       "\n",
       "    occupancy  \n",
       "0         2.0  \n",
       "1         1.0  \n",
       "2        40.0  \n",
       "3         2.0  \n",
       "4         0.1  \n",
       "5         8.0  \n",
       "6         1.0  \n",
       "7         7.0  \n",
       "8         4.0  \n",
       "9         1.0  \n",
       "10        4.0  \n",
       "11        0.2  \n",
       "12        0.2  \n",
       "13        0.5  \n",
       "14        2.0  \n",
       "15        1.0  \n",
       "16        2.0  \n",
       "17        1.0  \n",
       "18        2.0  \n",
       "19        3.0  \n",
       "20        3.0  \n",
       "21        1.0  \n",
       "22        2.0  \n",
       "23        1.0  \n",
       "24       10.0  \n",
       "25        1.0  "
      ]
     },
     "execution_count": 79,
     "metadata": {},
     "output_type": "execute_result"
    }
   ],
   "source": [
    "focus_level = 12\n",
    "level = user_behavior.session_occupancy(max_level = focus_level)\n",
    "\n",
    "df_list2d = []\n",
    "for ind in range(focus_level):\n",
    "    for candidate in level[ind]:\n",
    "        if \" \" in candidate:\n",
    "            end_index = candidate.index(\" \") - 1\n",
    "            if candidate[end_index] == end:\n",
    "                df_list2d.append(candidate)\n",
    "        else:\n",
    "            df_list2d.append(candidate)\n",
    "    \n",
    "df = pd.DataFrame.from_records(df_list2d)\n",
    "df.columns = list(range(0, focus_level)) + [\"occupancy\"]\n",
    "df"
   ]
  },
  {
   "cell_type": "code",
   "execution_count": 80,
   "id": "5c4052e8",
   "metadata": {
    "scrolled": false
   },
   "outputs": [
    {
     "data": {
      "application/vnd.plotly.v1+json": {
       "config": {
        "plotlyServerURL": "https://plot.ly"
       },
       "data": [
        {
         "branchvalues": "total",
         "customdata": [
          [
           "photos"
          ],
          [
           "project"
          ],
          [
           "camera"
          ],
          [
           "end"
          ],
          [
           "photos"
          ],
          [
           "photos"
          ],
          [
           "photos"
          ],
          [
           "photos"
          ],
          [
           "photos"
          ],
          [
           "photos"
          ],
          [
           "photos"
          ],
          [
           "photos"
          ],
          [
           "photos"
          ],
          [
           "photos"
          ],
          [
           "photos"
          ],
          [
           "photos"
          ],
          [
           "photos"
          ],
          [
           "profile"
          ],
          [
           "camera"
          ],
          [
           "profile"
          ],
          [
           "upgrade"
          ],
          [
           "photos"
          ],
          [
           "samples"
          ],
          [
           "project"
          ],
          [
           "camera"
          ],
          [
           "profile"
          ],
          [
           "end"
          ],
          [
           "camera"
          ],
          [
           "photos"
          ],
          [
           "profile"
          ],
          [
           "upgrade"
          ],
          [
           "camera"
          ],
          [
           "project"
          ],
          [
           "samples"
          ],
          [
           "profile"
          ],
          [
           "photos"
          ],
          [
           "camera"
          ],
          [
           "profile"
          ],
          [
           "photos"
          ],
          [
           "project"
          ],
          [
           "photos"
          ],
          [
           "photos"
          ],
          [
           "photos"
          ],
          [
           "photos"
          ],
          [
           "photos"
          ],
          [
           "photos"
          ],
          [
           "photos"
          ],
          [
           "photos"
          ],
          [
           "photos"
          ],
          [
           "photos"
          ],
          [
           "photos"
          ],
          [
           "photos"
          ],
          [
           "end"
          ],
          [
           "camera"
          ],
          [
           "photos"
          ],
          [
           "profile"
          ],
          [
           "upgrade"
          ],
          [
           "camera"
          ],
          [
           "project"
          ],
          [
           "samples"
          ],
          [
           "profile"
          ],
          [
           "photos"
          ],
          [
           "camera"
          ],
          [
           "profile"
          ],
          [
           "photos"
          ],
          [
           "project"
          ],
          [
           "photos"
          ],
          [
           "photos"
          ],
          [
           "photos"
          ],
          [
           "photos"
          ],
          [
           "photos"
          ],
          [
           "photos"
          ],
          [
           "photos"
          ],
          [
           "photos"
          ],
          [
           "photos"
          ],
          [
           "photos"
          ],
          [
           "photos"
          ],
          [
           "end"
          ],
          [
           "camera"
          ],
          [
           "photos"
          ],
          [
           "profile"
          ],
          [
           "upgrade"
          ],
          [
           "camera"
          ],
          [
           "project"
          ],
          [
           "samples"
          ],
          [
           "profile"
          ],
          [
           "photos"
          ],
          [
           "camera"
          ],
          [
           "profile"
          ],
          [
           "photos"
          ],
          [
           "project"
          ],
          [
           "photos"
          ],
          [
           "photos"
          ],
          [
           "photos"
          ],
          [
           "photos"
          ],
          [
           "photos"
          ],
          [
           "photos"
          ],
          [
           "photos"
          ],
          [
           "photos"
          ],
          [
           "photos"
          ],
          [
           "end"
          ],
          [
           "camera"
          ],
          [
           "photos"
          ],
          [
           "profile"
          ],
          [
           "upgrade"
          ],
          [
           "camera"
          ],
          [
           "project"
          ],
          [
           "samples"
          ],
          [
           "profile"
          ],
          [
           "photos"
          ],
          [
           "camera"
          ],
          [
           "profile"
          ],
          [
           "photos"
          ],
          [
           "project"
          ],
          [
           "photos"
          ],
          [
           "photos"
          ],
          [
           "photos"
          ],
          [
           "photos"
          ],
          [
           "photos"
          ],
          [
           "photos"
          ],
          [
           "photos"
          ],
          [
           "photos"
          ],
          [
           "end"
          ],
          [
           "camera"
          ],
          [
           "photos"
          ],
          [
           "profile"
          ],
          [
           "upgrade"
          ],
          [
           "camera"
          ],
          [
           "project"
          ],
          [
           "samples"
          ],
          [
           "profile"
          ],
          [
           "photos"
          ],
          [
           "camera"
          ],
          [
           "profile"
          ],
          [
           "photos"
          ],
          [
           "project"
          ],
          [
           "photos"
          ],
          [
           "photos"
          ],
          [
           "photos"
          ],
          [
           "photos"
          ],
          [
           "photos"
          ],
          [
           "photos"
          ],
          [
           "end"
          ],
          [
           "camera"
          ],
          [
           "photos"
          ],
          [
           "profile"
          ],
          [
           "upgrade"
          ],
          [
           "camera"
          ],
          [
           "project"
          ],
          [
           "samples"
          ],
          [
           "profile"
          ],
          [
           "photos"
          ],
          [
           "camera"
          ],
          [
           "profile"
          ],
          [
           "photos"
          ],
          [
           "photos"
          ],
          [
           "photos"
          ],
          [
           "photos"
          ],
          [
           "project"
          ],
          [
           "photos"
          ],
          [
           "end"
          ],
          [
           "camera"
          ],
          [
           "photos"
          ],
          [
           "profile"
          ],
          [
           "upgrade"
          ],
          [
           "camera"
          ],
          [
           "project"
          ],
          [
           "samples"
          ],
          [
           "photos"
          ],
          [
           "project"
          ],
          [
           "photos"
          ],
          [
           "profile"
          ],
          [
           "photos"
          ],
          [
           "camera"
          ],
          [
           "profile"
          ],
          [
           "photos"
          ],
          [
           "photos"
          ],
          [
           "end"
          ],
          [
           "camera"
          ],
          [
           "photos"
          ],
          [
           "profile"
          ],
          [
           "upgrade"
          ],
          [
           "profile"
          ],
          [
           "photos"
          ],
          [
           "camera"
          ],
          [
           "project"
          ],
          [
           "samples"
          ],
          [
           "photos"
          ],
          [
           "camera"
          ],
          [
           "profile"
          ],
          [
           "project"
          ],
          [
           "photos"
          ],
          [
           "end"
          ],
          [
           "project"
          ],
          [
           "camera"
          ],
          [
           "profile"
          ],
          [
           "project"
          ],
          [
           "samples"
          ],
          [
           "camera"
          ],
          [
           "photos"
          ],
          [
           "profile"
          ],
          [
           "upgrade"
          ],
          [
           "photos"
          ],
          [
           "camera"
          ],
          [
           "end"
          ],
          [
           "photos"
          ],
          [
           "profile"
          ],
          [
           "project"
          ],
          [
           "samples"
          ],
          [
           "upgrade"
          ],
          [
           "(?)"
          ]
         ],
         "domain": {
          "x": [
           0,
           1
          ],
          "y": [
           0,
           1
          ]
         },
         "hovertemplate": "labels=%{label}<br>occupancy=%{value}<br>parent=%{parent}<br>id=%{id}<br>1=%{customdata[0]}<extra></extra>",
         "ids": [
          "discover/photos/end/ / / / / / / / / ",
          "discover/project/discover/end/ / / / / / / / ",
          "discover/camera/discover/photos/end/ / / / / / / ",
          "discover/end/ / / / / / / / / / ",
          "discover/photos/usephoto/removebackground/nextremove/editor/editor/editor/editor/share/editor/end",
          "discover/photos/usephoto/removebackground/nextremove/crop/editor/share/shared/end/ / ",
          "discover/photos/usephoto/removebackground/nextremove/editor/editor/editor/editor/end/ / ",
          "discover/photos/usephoto/nextbutton/crop/editor/editorback/saveproject/end/ / / ",
          "discover/photos/usephoto/removebackground/nextremove/editor/editor/editor/end/ / / ",
          "discover/photos/usephoto/nextbutton/crop/editor/editorback/discover/end/ / / ",
          "discover/photos/usephoto/nextbutton/editor/share/saveimage/end/ / / / ",
          "discover/photos/usephoto/removebackground/nextremove/crop/editor/end/ / / / ",
          "discover/photos/usephoto/removebackground/nextremove/editor/end/ / / / / ",
          "discover/photos/usephoto/nextbutton/crop/editor/end/ / / / / ",
          "discover/photos/usephoto/removebackground/nextremove/editor/editor/editor/editor/share/saveimage/end",
          "discover/photos/usephoto/removebackground/nextremove/editor/editor/editor/editor/editorback/editorbackcancel/end",
          "discover/photos/usephoto/discover/end/ / / / / / / ",
          "discover/profile/discover/camera/end/ / / / / / / ",
          "discover/camera/end/ / / / / / / / / ",
          "discover/profile/discover/photos/end/ / / / / / / ",
          "discover/upgrade/end/ / / / / / / / / ",
          "discover/photos/usephoto/removebackground/end/ / / / / / / ",
          "discover/samples/editor/end/ / / / / / / / ",
          "discover/project/collection/project/discover/end/ / / / / / ",
          "discover/camera/discover/end/ / / / / / / / ",
          "discover/profile/end/ / / / / / / / / ",
          "discover/end/ / / / / / / / / ",
          "discover/camera/end/ / / / / / / / ",
          "discover/photos/end/ / / / / / / / ",
          "discover/profile/end/ / / / / / / / ",
          "discover/upgrade/end/ / / / / / / / ",
          "discover/camera/discover/end/ / / / / / / ",
          "discover/project/discover/end/ / / / / / / ",
          "discover/samples/editor/end/ / / / / / / ",
          "discover/profile/discover/camera/end/ / / / / / ",
          "discover/photos/usephoto/discover/end/ / / / / / ",
          "discover/camera/discover/photos/end/ / / / / / ",
          "discover/profile/discover/photos/end/ / / / / / ",
          "discover/photos/usephoto/removebackground/end/ / / / / / ",
          "discover/project/collection/project/discover/end/ / / / / ",
          "discover/photos/usephoto/nextbutton/crop/editor/end/ / / / ",
          "discover/photos/usephoto/removebackground/nextremove/editor/end/ / / / ",
          "discover/photos/usephoto/removebackground/nextremove/crop/editor/end/ / / ",
          "discover/photos/usephoto/nextbutton/editor/share/saveimage/end/ / / ",
          "discover/photos/usephoto/nextbutton/crop/editor/editorback/discover/end/ / ",
          "discover/photos/usephoto/removebackground/nextremove/editor/editor/editor/end/ / ",
          "discover/photos/usephoto/nextbutton/crop/editor/editorback/saveproject/end/ / ",
          "discover/photos/usephoto/removebackground/nextremove/editor/editor/editor/editor/end/ ",
          "discover/photos/usephoto/removebackground/nextremove/crop/editor/share/shared/end/ ",
          "discover/photos/usephoto/removebackground/nextremove/editor/editor/editor/editor/share/editor",
          "discover/photos/usephoto/removebackground/nextremove/editor/editor/editor/editor/editorback/editorbackcancel",
          "discover/photos/usephoto/removebackground/nextremove/editor/editor/editor/editor/share/saveimage",
          "discover/end/ / / / / / / / ",
          "discover/camera/end/ / / / / / / ",
          "discover/photos/end/ / / / / / / ",
          "discover/profile/end/ / / / / / / ",
          "discover/upgrade/end/ / / / / / / ",
          "discover/camera/discover/end/ / / / / / ",
          "discover/project/discover/end/ / / / / / ",
          "discover/samples/editor/end/ / / / / / ",
          "discover/profile/discover/camera/end/ / / / / ",
          "discover/photos/usephoto/discover/end/ / / / / ",
          "discover/camera/discover/photos/end/ / / / / ",
          "discover/profile/discover/photos/end/ / / / / ",
          "discover/photos/usephoto/removebackground/end/ / / / / ",
          "discover/project/collection/project/discover/end/ / / / ",
          "discover/photos/usephoto/nextbutton/crop/editor/end/ / / ",
          "discover/photos/usephoto/removebackground/nextremove/editor/end/ / / ",
          "discover/photos/usephoto/removebackground/nextremove/crop/editor/end/ / ",
          "discover/photos/usephoto/nextbutton/editor/share/saveimage/end/ / ",
          "discover/photos/usephoto/nextbutton/crop/editor/editorback/discover/end/ ",
          "discover/photos/usephoto/removebackground/nextremove/editor/editor/editor/end/ ",
          "discover/photos/usephoto/nextbutton/crop/editor/editorback/saveproject/end/ ",
          "discover/photos/usephoto/removebackground/nextremove/editor/editor/editor/editor/editorback",
          "discover/photos/usephoto/removebackground/nextremove/editor/editor/editor/editor/end",
          "discover/photos/usephoto/removebackground/nextremove/crop/editor/share/shared/end",
          "discover/photos/usephoto/removebackground/nextremove/editor/editor/editor/editor/share",
          "discover/end/ / / / / / / ",
          "discover/camera/end/ / / / / / ",
          "discover/photos/end/ / / / / / ",
          "discover/profile/end/ / / / / / ",
          "discover/upgrade/end/ / / / / / ",
          "discover/camera/discover/end/ / / / / ",
          "discover/project/discover/end/ / / / / ",
          "discover/samples/editor/end/ / / / / ",
          "discover/profile/discover/camera/end/ / / / ",
          "discover/photos/usephoto/discover/end/ / / / ",
          "discover/camera/discover/photos/end/ / / / ",
          "discover/profile/discover/photos/end/ / / / ",
          "discover/photos/usephoto/removebackground/end/ / / / ",
          "discover/project/collection/project/discover/end/ / / ",
          "discover/photos/usephoto/nextbutton/crop/editor/end/ / ",
          "discover/photos/usephoto/removebackground/nextremove/editor/end/ / ",
          "discover/photos/usephoto/removebackground/nextremove/crop/editor/end/ ",
          "discover/photos/usephoto/nextbutton/editor/share/saveimage/end/ ",
          "discover/photos/usephoto/removebackground/nextremove/editor/editor/editor/editor",
          "discover/photos/usephoto/nextbutton/crop/editor/editorback/discover/end",
          "discover/photos/usephoto/removebackground/nextremove/editor/editor/editor/end",
          "discover/photos/usephoto/nextbutton/crop/editor/editorback/saveproject/end",
          "discover/photos/usephoto/removebackground/nextremove/crop/editor/share/shared",
          "discover/end/ / / / / / ",
          "discover/camera/end/ / / / / ",
          "discover/photos/end/ / / / / ",
          "discover/profile/end/ / / / / ",
          "discover/upgrade/end/ / / / / ",
          "discover/camera/discover/end/ / / / ",
          "discover/project/discover/end/ / / / ",
          "discover/samples/editor/end/ / / / ",
          "discover/profile/discover/camera/end/ / / ",
          "discover/photos/usephoto/discover/end/ / / ",
          "discover/camera/discover/photos/end/ / / ",
          "discover/profile/discover/photos/end/ / / ",
          "discover/photos/usephoto/removebackground/end/ / / ",
          "discover/project/collection/project/discover/end/ / ",
          "discover/photos/usephoto/nextbutton/crop/editor/end/ ",
          "discover/photos/usephoto/removebackground/nextremove/editor/end/ ",
          "discover/photos/usephoto/nextbutton/crop/editor/editorback/discover",
          "discover/photos/usephoto/removebackground/nextremove/editor/editor/editor",
          "discover/photos/usephoto/removebackground/nextremove/crop/editor/end",
          "discover/photos/usephoto/nextbutton/editor/share/saveimage/end",
          "discover/photos/usephoto/nextbutton/crop/editor/editorback/saveproject",
          "discover/photos/usephoto/removebackground/nextremove/crop/editor/share",
          "discover/end/ / / / / ",
          "discover/camera/end/ / / / ",
          "discover/photos/end/ / / / ",
          "discover/profile/end/ / / / ",
          "discover/upgrade/end/ / / / ",
          "discover/camera/discover/end/ / / ",
          "discover/project/discover/end/ / / ",
          "discover/samples/editor/end/ / / ",
          "discover/profile/discover/camera/end/ / ",
          "discover/photos/usephoto/discover/end/ / ",
          "discover/camera/discover/photos/end/ / ",
          "discover/profile/discover/photos/end/ / ",
          "discover/photos/usephoto/removebackground/end/ / ",
          "discover/project/collection/project/discover/end/ ",
          "discover/photos/usephoto/removebackground/nextremove/crop/editor",
          "discover/photos/usephoto/removebackground/nextremove/editor/editor",
          "discover/photos/usephoto/nextbutton/crop/editor/editorback",
          "discover/photos/usephoto/nextbutton/crop/editor/end",
          "discover/photos/usephoto/removebackground/nextremove/editor/end",
          "discover/photos/usephoto/nextbutton/editor/share/saveimage",
          "discover/end/ / / / ",
          "discover/camera/end/ / / ",
          "discover/photos/end/ / / ",
          "discover/profile/end/ / / ",
          "discover/upgrade/end/ / / ",
          "discover/camera/discover/end/ / ",
          "discover/project/discover/end/ / ",
          "discover/samples/editor/end/ / ",
          "discover/profile/discover/camera/end/ ",
          "discover/photos/usephoto/discover/end/ ",
          "discover/camera/discover/photos/end/ ",
          "discover/profile/discover/photos/end/ ",
          "discover/photos/usephoto/removebackground/end/ ",
          "discover/photos/usephoto/removebackground/nextremove/crop",
          "discover/photos/usephoto/nextbutton/crop/editor",
          "discover/photos/usephoto/removebackground/nextremove/editor",
          "discover/project/collection/project/discover/end",
          "discover/photos/usephoto/nextbutton/editor/share",
          "discover/end/ / / ",
          "discover/camera/end/ / ",
          "discover/photos/end/ / ",
          "discover/profile/end/ / ",
          "discover/upgrade/end/ / ",
          "discover/camera/discover/end/ ",
          "discover/project/discover/end/ ",
          "discover/samples/editor/end/ ",
          "discover/photos/usephoto/nextbutton/crop",
          "discover/project/collection/project/discover",
          "discover/photos/usephoto/nextbutton/editor",
          "discover/profile/discover/camera/end",
          "discover/photos/usephoto/discover/end",
          "discover/camera/discover/photos/end",
          "discover/profile/discover/photos/end",
          "discover/photos/usephoto/removebackground/end",
          "discover/photos/usephoto/removebackground/nextremove",
          "discover/end/ / ",
          "discover/camera/end/ ",
          "discover/photos/end/ ",
          "discover/profile/end/ ",
          "discover/upgrade/end/ ",
          "discover/profile/discover/camera",
          "discover/photos/usephoto/discover",
          "discover/camera/discover/end",
          "discover/project/discover/end",
          "discover/samples/editor/end",
          "discover/photos/usephoto/nextbutton",
          "discover/camera/discover/photos",
          "discover/profile/discover/photos",
          "discover/project/collection/project",
          "discover/photos/usephoto/removebackground",
          "discover/end/ ",
          "discover/project/collection",
          "discover/camera/discover",
          "discover/profile/discover",
          "discover/project/discover",
          "discover/samples/editor",
          "discover/camera/end",
          "discover/photos/end",
          "discover/profile/end",
          "discover/upgrade/end",
          "discover/photos/usephoto",
          "discover/camera",
          "discover/end",
          "discover/photos",
          "discover/profile",
          "discover/project",
          "discover/samples",
          "discover/upgrade",
          "discover"
         ],
         "labels": [
          " ",
          " ",
          " ",
          " ",
          "end",
          " ",
          " ",
          " ",
          " ",
          " ",
          " ",
          " ",
          " ",
          " ",
          "end",
          "end",
          " ",
          " ",
          " ",
          " ",
          " ",
          " ",
          " ",
          " ",
          " ",
          " ",
          " ",
          " ",
          " ",
          " ",
          " ",
          " ",
          " ",
          " ",
          " ",
          " ",
          " ",
          " ",
          " ",
          " ",
          " ",
          " ",
          " ",
          " ",
          " ",
          " ",
          " ",
          " ",
          " ",
          "editor",
          "editorbackcancel",
          "saveimage",
          " ",
          " ",
          " ",
          " ",
          " ",
          " ",
          " ",
          " ",
          " ",
          " ",
          " ",
          " ",
          " ",
          " ",
          " ",
          " ",
          " ",
          " ",
          " ",
          " ",
          " ",
          "editorback",
          "end",
          "end",
          "share",
          " ",
          " ",
          " ",
          " ",
          " ",
          " ",
          " ",
          " ",
          " ",
          " ",
          " ",
          " ",
          " ",
          " ",
          " ",
          " ",
          " ",
          " ",
          "editor",
          "end",
          "end",
          "end",
          "shared",
          " ",
          " ",
          " ",
          " ",
          " ",
          " ",
          " ",
          " ",
          " ",
          " ",
          " ",
          " ",
          " ",
          " ",
          " ",
          " ",
          "discover",
          "editor",
          "end",
          "end",
          "saveproject",
          "share",
          " ",
          " ",
          " ",
          " ",
          " ",
          " ",
          " ",
          " ",
          " ",
          " ",
          " ",
          " ",
          " ",
          " ",
          "editor",
          "editor",
          "editorback",
          "end",
          "end",
          "saveimage",
          " ",
          " ",
          " ",
          " ",
          " ",
          " ",
          " ",
          " ",
          " ",
          " ",
          " ",
          " ",
          " ",
          "crop",
          "editor",
          "editor",
          "end",
          "share",
          " ",
          " ",
          " ",
          " ",
          " ",
          " ",
          " ",
          " ",
          "crop",
          "discover",
          "editor",
          "end",
          "end",
          "end",
          "end",
          "end",
          "nextremove",
          " ",
          " ",
          " ",
          " ",
          " ",
          "camera",
          "discover",
          "end",
          "end",
          "end",
          "nextbutton",
          "photos",
          "photos",
          "project",
          "removebackground",
          " ",
          "collection",
          "discover",
          "discover",
          "discover",
          "editor",
          "end",
          "end",
          "end",
          "end",
          "usephoto",
          "camera",
          "end",
          "photos",
          "profile",
          "project",
          "samples",
          "upgrade",
          "discover"
         ],
         "marker": {
          "colors": [
           "rgba(0,0,0,0)",
           "rgba(0,0,0,0)",
           "rgba(0,0,0,0)",
           "rgba(0,0,0,0)",
           "#636efa",
           "rgba(0,0,0,0)",
           "rgba(0,0,0,0)",
           "rgba(0,0,0,0)",
           "rgba(0,0,0,0)",
           "rgba(0,0,0,0)",
           "rgba(0,0,0,0)",
           "rgba(0,0,0,0)",
           "rgba(0,0,0,0)",
           "rgba(0,0,0,0)",
           "#636efa",
           "#636efa",
           "rgba(0,0,0,0)",
           "rgba(0,0,0,0)",
           "rgba(0,0,0,0)",
           "rgba(0,0,0,0)",
           "rgba(0,0,0,0)",
           "rgba(0,0,0,0)",
           "rgba(0,0,0,0)",
           "rgba(0,0,0,0)",
           "rgba(0,0,0,0)",
           "rgba(0,0,0,0)",
           "rgba(0,0,0,0)",
           "rgba(0,0,0,0)",
           "rgba(0,0,0,0)",
           "rgba(0,0,0,0)",
           "rgba(0,0,0,0)",
           "rgba(0,0,0,0)",
           "rgba(0,0,0,0)",
           "rgba(0,0,0,0)",
           "rgba(0,0,0,0)",
           "rgba(0,0,0,0)",
           "rgba(0,0,0,0)",
           "rgba(0,0,0,0)",
           "rgba(0,0,0,0)",
           "rgba(0,0,0,0)",
           "rgba(0,0,0,0)",
           "rgba(0,0,0,0)",
           "rgba(0,0,0,0)",
           "rgba(0,0,0,0)",
           "rgba(0,0,0,0)",
           "rgba(0,0,0,0)",
           "rgba(0,0,0,0)",
           "rgba(0,0,0,0)",
           "rgba(0,0,0,0)",
           "#636efa",
           "#636efa",
           "#636efa",
           "rgba(0,0,0,0)",
           "rgba(0,0,0,0)",
           "rgba(0,0,0,0)",
           "rgba(0,0,0,0)",
           "rgba(0,0,0,0)",
           "rgba(0,0,0,0)",
           "rgba(0,0,0,0)",
           "rgba(0,0,0,0)",
           "rgba(0,0,0,0)",
           "rgba(0,0,0,0)",
           "rgba(0,0,0,0)",
           "rgba(0,0,0,0)",
           "rgba(0,0,0,0)",
           "rgba(0,0,0,0)",
           "rgba(0,0,0,0)",
           "rgba(0,0,0,0)",
           "rgba(0,0,0,0)",
           "rgba(0,0,0,0)",
           "rgba(0,0,0,0)",
           "rgba(0,0,0,0)",
           "rgba(0,0,0,0)",
           "#636efa",
           "#636efa",
           "#636efa",
           "#636efa",
           "rgba(0,0,0,0)",
           "rgba(0,0,0,0)",
           "rgba(0,0,0,0)",
           "rgba(0,0,0,0)",
           "rgba(0,0,0,0)",
           "rgba(0,0,0,0)",
           "rgba(0,0,0,0)",
           "rgba(0,0,0,0)",
           "rgba(0,0,0,0)",
           "rgba(0,0,0,0)",
           "rgba(0,0,0,0)",
           "rgba(0,0,0,0)",
           "rgba(0,0,0,0)",
           "rgba(0,0,0,0)",
           "rgba(0,0,0,0)",
           "rgba(0,0,0,0)",
           "rgba(0,0,0,0)",
           "rgba(0,0,0,0)",
           "#636efa",
           "#636efa",
           "#636efa",
           "#636efa",
           "#636efa",
           "rgba(0,0,0,0)",
           "rgba(0,0,0,0)",
           "rgba(0,0,0,0)",
           "rgba(0,0,0,0)",
           "rgba(0,0,0,0)",
           "rgba(0,0,0,0)",
           "rgba(0,0,0,0)",
           "rgba(0,0,0,0)",
           "rgba(0,0,0,0)",
           "rgba(0,0,0,0)",
           "rgba(0,0,0,0)",
           "rgba(0,0,0,0)",
           "rgba(0,0,0,0)",
           "rgba(0,0,0,0)",
           "rgba(0,0,0,0)",
           "rgba(0,0,0,0)",
           "#636efa",
           "#636efa",
           "#636efa",
           "#636efa",
           "#636efa",
           "#636efa",
           "rgba(0,0,0,0)",
           "rgba(0,0,0,0)",
           "rgba(0,0,0,0)",
           "rgba(0,0,0,0)",
           "rgba(0,0,0,0)",
           "rgba(0,0,0,0)",
           "rgba(0,0,0,0)",
           "rgba(0,0,0,0)",
           "rgba(0,0,0,0)",
           "rgba(0,0,0,0)",
           "rgba(0,0,0,0)",
           "rgba(0,0,0,0)",
           "rgba(0,0,0,0)",
           "rgba(0,0,0,0)",
           "#636efa",
           "#636efa",
           "#636efa",
           "#636efa",
           "#636efa",
           "#636efa",
           "rgba(0,0,0,0)",
           "rgba(0,0,0,0)",
           "rgba(0,0,0,0)",
           "rgba(0,0,0,0)",
           "rgba(0,0,0,0)",
           "rgba(0,0,0,0)",
           "rgba(0,0,0,0)",
           "rgba(0,0,0,0)",
           "rgba(0,0,0,0)",
           "rgba(0,0,0,0)",
           "rgba(0,0,0,0)",
           "rgba(0,0,0,0)",
           "rgba(0,0,0,0)",
           "#636efa",
           "#636efa",
           "#636efa",
           "#EF553B",
           "#636efa",
           "rgba(0,0,0,0)",
           "rgba(0,0,0,0)",
           "rgba(0,0,0,0)",
           "rgba(0,0,0,0)",
           "rgba(0,0,0,0)",
           "rgba(0,0,0,0)",
           "rgba(0,0,0,0)",
           "rgba(0,0,0,0)",
           "#636efa",
           "#EF553B",
           "#636efa",
           "#FFA15A",
           "#636efa",
           "#00cc96",
           "#FFA15A",
           "#636efa",
           "#636efa",
           "rgba(0,0,0,0)",
           "rgba(0,0,0,0)",
           "rgba(0,0,0,0)",
           "rgba(0,0,0,0)",
           "rgba(0,0,0,0)",
           "#FFA15A",
           "#636efa",
           "#00cc96",
           "#EF553B",
           "#FF6692",
           "#636efa",
           "#00cc96",
           "#FFA15A",
           "#EF553B",
           "#636efa",
           "rgba(0,0,0,0)",
           "#EF553B",
           "#00cc96",
           "#FFA15A",
           "#EF553B",
           "#FF6692",
           "#00cc96",
           "#636efa",
           "#FFA15A",
           "#19d3f3",
           "#636efa",
           "#00cc96",
           "#ab63fa",
           "#636efa",
           "#FFA15A",
           "#EF553B",
           "#FF6692",
           "#19d3f3",
           "#B6E880"
          ]
         },
         "name": "",
         "parents": [
          "discover/photos/end/ / / / / / / / ",
          "discover/project/discover/end/ / / / / / / ",
          "discover/camera/discover/photos/end/ / / / / / ",
          "discover/end/ / / / / / / / / ",
          "discover/photos/usephoto/removebackground/nextremove/editor/editor/editor/editor/share/editor",
          "discover/photos/usephoto/removebackground/nextremove/crop/editor/share/shared/end/ ",
          "discover/photos/usephoto/removebackground/nextremove/editor/editor/editor/editor/end/ ",
          "discover/photos/usephoto/nextbutton/crop/editor/editorback/saveproject/end/ / ",
          "discover/photos/usephoto/removebackground/nextremove/editor/editor/editor/end/ / ",
          "discover/photos/usephoto/nextbutton/crop/editor/editorback/discover/end/ / ",
          "discover/photos/usephoto/nextbutton/editor/share/saveimage/end/ / / ",
          "discover/photos/usephoto/removebackground/nextremove/crop/editor/end/ / / ",
          "discover/photos/usephoto/removebackground/nextremove/editor/end/ / / / ",
          "discover/photos/usephoto/nextbutton/crop/editor/end/ / / / ",
          "discover/photos/usephoto/removebackground/nextremove/editor/editor/editor/editor/share/saveimage",
          "discover/photos/usephoto/removebackground/nextremove/editor/editor/editor/editor/editorback/editorbackcancel",
          "discover/photos/usephoto/discover/end/ / / / / / ",
          "discover/profile/discover/camera/end/ / / / / / ",
          "discover/camera/end/ / / / / / / / ",
          "discover/profile/discover/photos/end/ / / / / / ",
          "discover/upgrade/end/ / / / / / / / ",
          "discover/photos/usephoto/removebackground/end/ / / / / / ",
          "discover/samples/editor/end/ / / / / / / ",
          "discover/project/collection/project/discover/end/ / / / / ",
          "discover/camera/discover/end/ / / / / / / ",
          "discover/profile/end/ / / / / / / / ",
          "discover/end/ / / / / / / / ",
          "discover/camera/end/ / / / / / / ",
          "discover/photos/end/ / / / / / / ",
          "discover/profile/end/ / / / / / / ",
          "discover/upgrade/end/ / / / / / / ",
          "discover/camera/discover/end/ / / / / / ",
          "discover/project/discover/end/ / / / / / ",
          "discover/samples/editor/end/ / / / / / ",
          "discover/profile/discover/camera/end/ / / / / ",
          "discover/photos/usephoto/discover/end/ / / / / ",
          "discover/camera/discover/photos/end/ / / / / ",
          "discover/profile/discover/photos/end/ / / / / ",
          "discover/photos/usephoto/removebackground/end/ / / / / ",
          "discover/project/collection/project/discover/end/ / / / ",
          "discover/photos/usephoto/nextbutton/crop/editor/end/ / / ",
          "discover/photos/usephoto/removebackground/nextremove/editor/end/ / / ",
          "discover/photos/usephoto/removebackground/nextremove/crop/editor/end/ / ",
          "discover/photos/usephoto/nextbutton/editor/share/saveimage/end/ / ",
          "discover/photos/usephoto/nextbutton/crop/editor/editorback/discover/end/ ",
          "discover/photos/usephoto/removebackground/nextremove/editor/editor/editor/end/ ",
          "discover/photos/usephoto/nextbutton/crop/editor/editorback/saveproject/end/ ",
          "discover/photos/usephoto/removebackground/nextremove/editor/editor/editor/editor/end",
          "discover/photos/usephoto/removebackground/nextremove/crop/editor/share/shared/end",
          "discover/photos/usephoto/removebackground/nextremove/editor/editor/editor/editor/share",
          "discover/photos/usephoto/removebackground/nextremove/editor/editor/editor/editor/editorback",
          "discover/photos/usephoto/removebackground/nextremove/editor/editor/editor/editor/share",
          "discover/end/ / / / / / / ",
          "discover/camera/end/ / / / / / ",
          "discover/photos/end/ / / / / / ",
          "discover/profile/end/ / / / / / ",
          "discover/upgrade/end/ / / / / / ",
          "discover/camera/discover/end/ / / / / ",
          "discover/project/discover/end/ / / / / ",
          "discover/samples/editor/end/ / / / / ",
          "discover/profile/discover/camera/end/ / / / ",
          "discover/photos/usephoto/discover/end/ / / / ",
          "discover/camera/discover/photos/end/ / / / ",
          "discover/profile/discover/photos/end/ / / / ",
          "discover/photos/usephoto/removebackground/end/ / / / ",
          "discover/project/collection/project/discover/end/ / / ",
          "discover/photos/usephoto/nextbutton/crop/editor/end/ / ",
          "discover/photos/usephoto/removebackground/nextremove/editor/end/ / ",
          "discover/photos/usephoto/removebackground/nextremove/crop/editor/end/ ",
          "discover/photos/usephoto/nextbutton/editor/share/saveimage/end/ ",
          "discover/photos/usephoto/nextbutton/crop/editor/editorback/discover/end",
          "discover/photos/usephoto/removebackground/nextremove/editor/editor/editor/end",
          "discover/photos/usephoto/nextbutton/crop/editor/editorback/saveproject/end",
          "discover/photos/usephoto/removebackground/nextremove/editor/editor/editor/editor",
          "discover/photos/usephoto/removebackground/nextremove/editor/editor/editor/editor",
          "discover/photos/usephoto/removebackground/nextremove/crop/editor/share/shared",
          "discover/photos/usephoto/removebackground/nextremove/editor/editor/editor/editor",
          "discover/end/ / / / / / ",
          "discover/camera/end/ / / / / ",
          "discover/photos/end/ / / / / ",
          "discover/profile/end/ / / / / ",
          "discover/upgrade/end/ / / / / ",
          "discover/camera/discover/end/ / / / ",
          "discover/project/discover/end/ / / / ",
          "discover/samples/editor/end/ / / / ",
          "discover/profile/discover/camera/end/ / / ",
          "discover/photos/usephoto/discover/end/ / / ",
          "discover/camera/discover/photos/end/ / / ",
          "discover/profile/discover/photos/end/ / / ",
          "discover/photos/usephoto/removebackground/end/ / / ",
          "discover/project/collection/project/discover/end/ / ",
          "discover/photos/usephoto/nextbutton/crop/editor/end/ ",
          "discover/photos/usephoto/removebackground/nextremove/editor/end/ ",
          "discover/photos/usephoto/removebackground/nextremove/crop/editor/end",
          "discover/photos/usephoto/nextbutton/editor/share/saveimage/end",
          "discover/photos/usephoto/removebackground/nextremove/editor/editor/editor",
          "discover/photos/usephoto/nextbutton/crop/editor/editorback/discover",
          "discover/photos/usephoto/removebackground/nextremove/editor/editor/editor",
          "discover/photos/usephoto/nextbutton/crop/editor/editorback/saveproject",
          "discover/photos/usephoto/removebackground/nextremove/crop/editor/share",
          "discover/end/ / / / / ",
          "discover/camera/end/ / / / ",
          "discover/photos/end/ / / / ",
          "discover/profile/end/ / / / ",
          "discover/upgrade/end/ / / / ",
          "discover/camera/discover/end/ / / ",
          "discover/project/discover/end/ / / ",
          "discover/samples/editor/end/ / / ",
          "discover/profile/discover/camera/end/ / ",
          "discover/photos/usephoto/discover/end/ / ",
          "discover/camera/discover/photos/end/ / ",
          "discover/profile/discover/photos/end/ / ",
          "discover/photos/usephoto/removebackground/end/ / ",
          "discover/project/collection/project/discover/end/ ",
          "discover/photos/usephoto/nextbutton/crop/editor/end",
          "discover/photos/usephoto/removebackground/nextremove/editor/end",
          "discover/photos/usephoto/nextbutton/crop/editor/editorback",
          "discover/photos/usephoto/removebackground/nextremove/editor/editor",
          "discover/photos/usephoto/removebackground/nextremove/crop/editor",
          "discover/photos/usephoto/nextbutton/editor/share/saveimage",
          "discover/photos/usephoto/nextbutton/crop/editor/editorback",
          "discover/photos/usephoto/removebackground/nextremove/crop/editor",
          "discover/end/ / / / ",
          "discover/camera/end/ / / ",
          "discover/photos/end/ / / ",
          "discover/profile/end/ / / ",
          "discover/upgrade/end/ / / ",
          "discover/camera/discover/end/ / ",
          "discover/project/discover/end/ / ",
          "discover/samples/editor/end/ / ",
          "discover/profile/discover/camera/end/ ",
          "discover/photos/usephoto/discover/end/ ",
          "discover/camera/discover/photos/end/ ",
          "discover/profile/discover/photos/end/ ",
          "discover/photos/usephoto/removebackground/end/ ",
          "discover/project/collection/project/discover/end",
          "discover/photos/usephoto/removebackground/nextremove/crop",
          "discover/photos/usephoto/removebackground/nextremove/editor",
          "discover/photos/usephoto/nextbutton/crop/editor",
          "discover/photos/usephoto/nextbutton/crop/editor",
          "discover/photos/usephoto/removebackground/nextremove/editor",
          "discover/photos/usephoto/nextbutton/editor/share",
          "discover/end/ / / ",
          "discover/camera/end/ / ",
          "discover/photos/end/ / ",
          "discover/profile/end/ / ",
          "discover/upgrade/end/ / ",
          "discover/camera/discover/end/ ",
          "discover/project/discover/end/ ",
          "discover/samples/editor/end/ ",
          "discover/profile/discover/camera/end",
          "discover/photos/usephoto/discover/end",
          "discover/camera/discover/photos/end",
          "discover/profile/discover/photos/end",
          "discover/photos/usephoto/removebackground/end",
          "discover/photos/usephoto/removebackground/nextremove",
          "discover/photos/usephoto/nextbutton/crop",
          "discover/photos/usephoto/removebackground/nextremove",
          "discover/project/collection/project/discover",
          "discover/photos/usephoto/nextbutton/editor",
          "discover/end/ / ",
          "discover/camera/end/ ",
          "discover/photos/end/ ",
          "discover/profile/end/ ",
          "discover/upgrade/end/ ",
          "discover/camera/discover/end",
          "discover/project/discover/end",
          "discover/samples/editor/end",
          "discover/photos/usephoto/nextbutton",
          "discover/project/collection/project",
          "discover/photos/usephoto/nextbutton",
          "discover/profile/discover/camera",
          "discover/photos/usephoto/discover",
          "discover/camera/discover/photos",
          "discover/profile/discover/photos",
          "discover/photos/usephoto/removebackground",
          "discover/photos/usephoto/removebackground",
          "discover/end/ ",
          "discover/camera/end",
          "discover/photos/end",
          "discover/profile/end",
          "discover/upgrade/end",
          "discover/profile/discover",
          "discover/photos/usephoto",
          "discover/camera/discover",
          "discover/project/discover",
          "discover/samples/editor",
          "discover/photos/usephoto",
          "discover/camera/discover",
          "discover/profile/discover",
          "discover/project/collection",
          "discover/photos/usephoto",
          "discover/end",
          "discover/project",
          "discover/camera",
          "discover/profile",
          "discover/project",
          "discover/samples",
          "discover/camera",
          "discover/photos",
          "discover/profile",
          "discover/upgrade",
          "discover/photos",
          "discover",
          "discover",
          "discover",
          "discover",
          "discover",
          "discover",
          "discover",
          ""
         ],
         "type": "sunburst",
         "values": [
          1,
          7.000000000000001,
          4,
          2,
          1,
          2,
          1,
          3,
          2,
          3,
          1,
          2,
          2,
          1,
          10,
          1,
          1,
          0.2,
          40,
          0.2,
          2,
          4,
          8,
          0.5,
          1,
          0.1,
          2,
          40,
          1,
          0.1,
          2,
          1,
          7.000000000000001,
          8,
          0.2,
          1,
          4,
          0.2,
          4,
          0.5,
          1,
          2,
          2,
          1,
          3,
          2,
          3,
          1,
          2,
          1,
          1,
          10,
          2,
          40,
          1,
          0.1,
          2,
          1,
          7.000000000000001,
          8,
          0.2,
          1,
          4,
          0.2,
          4,
          0.5,
          1,
          2,
          2,
          1,
          3,
          2,
          3,
          1,
          1,
          2,
          11,
          2,
          40,
          1,
          0.1,
          2,
          1,
          7.000000000000001,
          8,
          0.2,
          1,
          4,
          0.2,
          4,
          0.5,
          1,
          2,
          2,
          1,
          13,
          3,
          2,
          3,
          2,
          2,
          40,
          1,
          0.1,
          2,
          1,
          7.000000000000001,
          8,
          0.2,
          1,
          4,
          0.2,
          4,
          0.5,
          1,
          2,
          3,
          15,
          2,
          1,
          3,
          2,
          2,
          40,
          1,
          0.1,
          2,
          1,
          7.000000000000001,
          8,
          0.2,
          1,
          4,
          0.2,
          4,
          0.5,
          4,
          15,
          6,
          1,
          2,
          1,
          2,
          40,
          1,
          0.1,
          2,
          1,
          7.000000000000001,
          8,
          0.2,
          1,
          4,
          0.2,
          4,
          4,
          7,
          17,
          0.5,
          1,
          2,
          40,
          1,
          0.1,
          2,
          1,
          7.000000000000001,
          8,
          7,
          0.5,
          1,
          0.2,
          1,
          4,
          0.2,
          4,
          21,
          2,
          40,
          1,
          0.1,
          2,
          0.2,
          1,
          1,
          7.000000000000001,
          8,
          8,
          4,
          0.2,
          0.5,
          25,
          2,
          0.5,
          5,
          0.4,
          7.000000000000001,
          8,
          40,
          1,
          0.1,
          2,
          34,
          45,
          2,
          35,
          0.5,
          7.500000000000001,
          8,
          2,
          100
         ]
        }
       ],
       "layout": {
        "height": 1000,
        "legend": {
         "tracegroupgap": 0
        },
        "margin": {
         "t": 60
        },
        "template": {
         "data": {
          "bar": [
           {
            "error_x": {
             "color": "#2a3f5f"
            },
            "error_y": {
             "color": "#2a3f5f"
            },
            "marker": {
             "line": {
              "color": "#E5ECF6",
              "width": 0.5
             },
             "pattern": {
              "fillmode": "overlay",
              "size": 10,
              "solidity": 0.2
             }
            },
            "type": "bar"
           }
          ],
          "barpolar": [
           {
            "marker": {
             "line": {
              "color": "#E5ECF6",
              "width": 0.5
             },
             "pattern": {
              "fillmode": "overlay",
              "size": 10,
              "solidity": 0.2
             }
            },
            "type": "barpolar"
           }
          ],
          "carpet": [
           {
            "aaxis": {
             "endlinecolor": "#2a3f5f",
             "gridcolor": "white",
             "linecolor": "white",
             "minorgridcolor": "white",
             "startlinecolor": "#2a3f5f"
            },
            "baxis": {
             "endlinecolor": "#2a3f5f",
             "gridcolor": "white",
             "linecolor": "white",
             "minorgridcolor": "white",
             "startlinecolor": "#2a3f5f"
            },
            "type": "carpet"
           }
          ],
          "choropleth": [
           {
            "colorbar": {
             "outlinewidth": 0,
             "ticks": ""
            },
            "type": "choropleth"
           }
          ],
          "contour": [
           {
            "colorbar": {
             "outlinewidth": 0,
             "ticks": ""
            },
            "colorscale": [
             [
              0,
              "#0d0887"
             ],
             [
              0.1111111111111111,
              "#46039f"
             ],
             [
              0.2222222222222222,
              "#7201a8"
             ],
             [
              0.3333333333333333,
              "#9c179e"
             ],
             [
              0.4444444444444444,
              "#bd3786"
             ],
             [
              0.5555555555555556,
              "#d8576b"
             ],
             [
              0.6666666666666666,
              "#ed7953"
             ],
             [
              0.7777777777777778,
              "#fb9f3a"
             ],
             [
              0.8888888888888888,
              "#fdca26"
             ],
             [
              1,
              "#f0f921"
             ]
            ],
            "type": "contour"
           }
          ],
          "contourcarpet": [
           {
            "colorbar": {
             "outlinewidth": 0,
             "ticks": ""
            },
            "type": "contourcarpet"
           }
          ],
          "heatmap": [
           {
            "colorbar": {
             "outlinewidth": 0,
             "ticks": ""
            },
            "colorscale": [
             [
              0,
              "#0d0887"
             ],
             [
              0.1111111111111111,
              "#46039f"
             ],
             [
              0.2222222222222222,
              "#7201a8"
             ],
             [
              0.3333333333333333,
              "#9c179e"
             ],
             [
              0.4444444444444444,
              "#bd3786"
             ],
             [
              0.5555555555555556,
              "#d8576b"
             ],
             [
              0.6666666666666666,
              "#ed7953"
             ],
             [
              0.7777777777777778,
              "#fb9f3a"
             ],
             [
              0.8888888888888888,
              "#fdca26"
             ],
             [
              1,
              "#f0f921"
             ]
            ],
            "type": "heatmap"
           }
          ],
          "heatmapgl": [
           {
            "colorbar": {
             "outlinewidth": 0,
             "ticks": ""
            },
            "colorscale": [
             [
              0,
              "#0d0887"
             ],
             [
              0.1111111111111111,
              "#46039f"
             ],
             [
              0.2222222222222222,
              "#7201a8"
             ],
             [
              0.3333333333333333,
              "#9c179e"
             ],
             [
              0.4444444444444444,
              "#bd3786"
             ],
             [
              0.5555555555555556,
              "#d8576b"
             ],
             [
              0.6666666666666666,
              "#ed7953"
             ],
             [
              0.7777777777777778,
              "#fb9f3a"
             ],
             [
              0.8888888888888888,
              "#fdca26"
             ],
             [
              1,
              "#f0f921"
             ]
            ],
            "type": "heatmapgl"
           }
          ],
          "histogram": [
           {
            "marker": {
             "pattern": {
              "fillmode": "overlay",
              "size": 10,
              "solidity": 0.2
             }
            },
            "type": "histogram"
           }
          ],
          "histogram2d": [
           {
            "colorbar": {
             "outlinewidth": 0,
             "ticks": ""
            },
            "colorscale": [
             [
              0,
              "#0d0887"
             ],
             [
              0.1111111111111111,
              "#46039f"
             ],
             [
              0.2222222222222222,
              "#7201a8"
             ],
             [
              0.3333333333333333,
              "#9c179e"
             ],
             [
              0.4444444444444444,
              "#bd3786"
             ],
             [
              0.5555555555555556,
              "#d8576b"
             ],
             [
              0.6666666666666666,
              "#ed7953"
             ],
             [
              0.7777777777777778,
              "#fb9f3a"
             ],
             [
              0.8888888888888888,
              "#fdca26"
             ],
             [
              1,
              "#f0f921"
             ]
            ],
            "type": "histogram2d"
           }
          ],
          "histogram2dcontour": [
           {
            "colorbar": {
             "outlinewidth": 0,
             "ticks": ""
            },
            "colorscale": [
             [
              0,
              "#0d0887"
             ],
             [
              0.1111111111111111,
              "#46039f"
             ],
             [
              0.2222222222222222,
              "#7201a8"
             ],
             [
              0.3333333333333333,
              "#9c179e"
             ],
             [
              0.4444444444444444,
              "#bd3786"
             ],
             [
              0.5555555555555556,
              "#d8576b"
             ],
             [
              0.6666666666666666,
              "#ed7953"
             ],
             [
              0.7777777777777778,
              "#fb9f3a"
             ],
             [
              0.8888888888888888,
              "#fdca26"
             ],
             [
              1,
              "#f0f921"
             ]
            ],
            "type": "histogram2dcontour"
           }
          ],
          "mesh3d": [
           {
            "colorbar": {
             "outlinewidth": 0,
             "ticks": ""
            },
            "type": "mesh3d"
           }
          ],
          "parcoords": [
           {
            "line": {
             "colorbar": {
              "outlinewidth": 0,
              "ticks": ""
             }
            },
            "type": "parcoords"
           }
          ],
          "pie": [
           {
            "automargin": true,
            "type": "pie"
           }
          ],
          "scatter": [
           {
            "fillpattern": {
             "fillmode": "overlay",
             "size": 10,
             "solidity": 0.2
            },
            "type": "scatter"
           }
          ],
          "scatter3d": [
           {
            "line": {
             "colorbar": {
              "outlinewidth": 0,
              "ticks": ""
             }
            },
            "marker": {
             "colorbar": {
              "outlinewidth": 0,
              "ticks": ""
             }
            },
            "type": "scatter3d"
           }
          ],
          "scattercarpet": [
           {
            "marker": {
             "colorbar": {
              "outlinewidth": 0,
              "ticks": ""
             }
            },
            "type": "scattercarpet"
           }
          ],
          "scattergeo": [
           {
            "marker": {
             "colorbar": {
              "outlinewidth": 0,
              "ticks": ""
             }
            },
            "type": "scattergeo"
           }
          ],
          "scattergl": [
           {
            "marker": {
             "colorbar": {
              "outlinewidth": 0,
              "ticks": ""
             }
            },
            "type": "scattergl"
           }
          ],
          "scattermapbox": [
           {
            "marker": {
             "colorbar": {
              "outlinewidth": 0,
              "ticks": ""
             }
            },
            "type": "scattermapbox"
           }
          ],
          "scatterpolar": [
           {
            "marker": {
             "colorbar": {
              "outlinewidth": 0,
              "ticks": ""
             }
            },
            "type": "scatterpolar"
           }
          ],
          "scatterpolargl": [
           {
            "marker": {
             "colorbar": {
              "outlinewidth": 0,
              "ticks": ""
             }
            },
            "type": "scatterpolargl"
           }
          ],
          "scatterternary": [
           {
            "marker": {
             "colorbar": {
              "outlinewidth": 0,
              "ticks": ""
             }
            },
            "type": "scatterternary"
           }
          ],
          "surface": [
           {
            "colorbar": {
             "outlinewidth": 0,
             "ticks": ""
            },
            "colorscale": [
             [
              0,
              "#0d0887"
             ],
             [
              0.1111111111111111,
              "#46039f"
             ],
             [
              0.2222222222222222,
              "#7201a8"
             ],
             [
              0.3333333333333333,
              "#9c179e"
             ],
             [
              0.4444444444444444,
              "#bd3786"
             ],
             [
              0.5555555555555556,
              "#d8576b"
             ],
             [
              0.6666666666666666,
              "#ed7953"
             ],
             [
              0.7777777777777778,
              "#fb9f3a"
             ],
             [
              0.8888888888888888,
              "#fdca26"
             ],
             [
              1,
              "#f0f921"
             ]
            ],
            "type": "surface"
           }
          ],
          "table": [
           {
            "cells": {
             "fill": {
              "color": "#EBF0F8"
             },
             "line": {
              "color": "white"
             }
            },
            "header": {
             "fill": {
              "color": "#C8D4E3"
             },
             "line": {
              "color": "white"
             }
            },
            "type": "table"
           }
          ]
         },
         "layout": {
          "annotationdefaults": {
           "arrowcolor": "#2a3f5f",
           "arrowhead": 0,
           "arrowwidth": 1
          },
          "autotypenumbers": "strict",
          "coloraxis": {
           "colorbar": {
            "outlinewidth": 0,
            "ticks": ""
           }
          },
          "colorscale": {
           "diverging": [
            [
             0,
             "#8e0152"
            ],
            [
             0.1,
             "#c51b7d"
            ],
            [
             0.2,
             "#de77ae"
            ],
            [
             0.3,
             "#f1b6da"
            ],
            [
             0.4,
             "#fde0ef"
            ],
            [
             0.5,
             "#f7f7f7"
            ],
            [
             0.6,
             "#e6f5d0"
            ],
            [
             0.7,
             "#b8e186"
            ],
            [
             0.8,
             "#7fbc41"
            ],
            [
             0.9,
             "#4d9221"
            ],
            [
             1,
             "#276419"
            ]
           ],
           "sequential": [
            [
             0,
             "#0d0887"
            ],
            [
             0.1111111111111111,
             "#46039f"
            ],
            [
             0.2222222222222222,
             "#7201a8"
            ],
            [
             0.3333333333333333,
             "#9c179e"
            ],
            [
             0.4444444444444444,
             "#bd3786"
            ],
            [
             0.5555555555555556,
             "#d8576b"
            ],
            [
             0.6666666666666666,
             "#ed7953"
            ],
            [
             0.7777777777777778,
             "#fb9f3a"
            ],
            [
             0.8888888888888888,
             "#fdca26"
            ],
            [
             1,
             "#f0f921"
            ]
           ],
           "sequentialminus": [
            [
             0,
             "#0d0887"
            ],
            [
             0.1111111111111111,
             "#46039f"
            ],
            [
             0.2222222222222222,
             "#7201a8"
            ],
            [
             0.3333333333333333,
             "#9c179e"
            ],
            [
             0.4444444444444444,
             "#bd3786"
            ],
            [
             0.5555555555555556,
             "#d8576b"
            ],
            [
             0.6666666666666666,
             "#ed7953"
            ],
            [
             0.7777777777777778,
             "#fb9f3a"
            ],
            [
             0.8888888888888888,
             "#fdca26"
            ],
            [
             1,
             "#f0f921"
            ]
           ]
          },
          "colorway": [
           "#636efa",
           "#EF553B",
           "#00cc96",
           "#ab63fa",
           "#FFA15A",
           "#19d3f3",
           "#FF6692",
           "#B6E880",
           "#FF97FF",
           "#FECB52"
          ],
          "font": {
           "color": "#2a3f5f"
          },
          "geo": {
           "bgcolor": "white",
           "lakecolor": "white",
           "landcolor": "#E5ECF6",
           "showlakes": true,
           "showland": true,
           "subunitcolor": "white"
          },
          "hoverlabel": {
           "align": "left"
          },
          "hovermode": "closest",
          "mapbox": {
           "style": "light"
          },
          "paper_bgcolor": "white",
          "plot_bgcolor": "#E5ECF6",
          "polar": {
           "angularaxis": {
            "gridcolor": "white",
            "linecolor": "white",
            "ticks": ""
           },
           "bgcolor": "#E5ECF6",
           "radialaxis": {
            "gridcolor": "white",
            "linecolor": "white",
            "ticks": ""
           }
          },
          "scene": {
           "xaxis": {
            "backgroundcolor": "#E5ECF6",
            "gridcolor": "white",
            "gridwidth": 2,
            "linecolor": "white",
            "showbackground": true,
            "ticks": "",
            "zerolinecolor": "white"
           },
           "yaxis": {
            "backgroundcolor": "#E5ECF6",
            "gridcolor": "white",
            "gridwidth": 2,
            "linecolor": "white",
            "showbackground": true,
            "ticks": "",
            "zerolinecolor": "white"
           },
           "zaxis": {
            "backgroundcolor": "#E5ECF6",
            "gridcolor": "white",
            "gridwidth": 2,
            "linecolor": "white",
            "showbackground": true,
            "ticks": "",
            "zerolinecolor": "white"
           }
          },
          "shapedefaults": {
           "line": {
            "color": "#2a3f5f"
           }
          },
          "ternary": {
           "aaxis": {
            "gridcolor": "white",
            "linecolor": "white",
            "ticks": ""
           },
           "baxis": {
            "gridcolor": "white",
            "linecolor": "white",
            "ticks": ""
           },
           "bgcolor": "#E5ECF6",
           "caxis": {
            "gridcolor": "white",
            "linecolor": "white",
            "ticks": ""
           }
          },
          "title": {
           "x": 0.05
          },
          "xaxis": {
           "automargin": true,
           "gridcolor": "white",
           "linecolor": "white",
           "ticks": "",
           "title": {
            "standoff": 15
           },
           "zerolinecolor": "white",
           "zerolinewidth": 2
          },
          "yaxis": {
           "automargin": true,
           "gridcolor": "white",
           "linecolor": "white",
           "ticks": "",
           "title": {
            "standoff": 15
           },
           "zerolinecolor": "white",
           "zerolinewidth": 2
          }
         }
        },
        "width": 1000
       }
      },
      "text/html": [
       "<div>                            <div id=\"8dfd2034-dfcd-420e-901a-377c40069962\" class=\"plotly-graph-div\" style=\"height:1000px; width:1000px;\"></div>            <script type=\"text/javascript\">                require([\"plotly\"], function(Plotly) {                    window.PLOTLYENV=window.PLOTLYENV || {};                                    if (document.getElementById(\"8dfd2034-dfcd-420e-901a-377c40069962\")) {                    Plotly.newPlot(                        \"8dfd2034-dfcd-420e-901a-377c40069962\",                        [{\"branchvalues\":\"total\",\"customdata\":[[\"photos\"],[\"project\"],[\"camera\"],[\"end\"],[\"photos\"],[\"photos\"],[\"photos\"],[\"photos\"],[\"photos\"],[\"photos\"],[\"photos\"],[\"photos\"],[\"photos\"],[\"photos\"],[\"photos\"],[\"photos\"],[\"photos\"],[\"profile\"],[\"camera\"],[\"profile\"],[\"upgrade\"],[\"photos\"],[\"samples\"],[\"project\"],[\"camera\"],[\"profile\"],[\"end\"],[\"camera\"],[\"photos\"],[\"profile\"],[\"upgrade\"],[\"camera\"],[\"project\"],[\"samples\"],[\"profile\"],[\"photos\"],[\"camera\"],[\"profile\"],[\"photos\"],[\"project\"],[\"photos\"],[\"photos\"],[\"photos\"],[\"photos\"],[\"photos\"],[\"photos\"],[\"photos\"],[\"photos\"],[\"photos\"],[\"photos\"],[\"photos\"],[\"photos\"],[\"end\"],[\"camera\"],[\"photos\"],[\"profile\"],[\"upgrade\"],[\"camera\"],[\"project\"],[\"samples\"],[\"profile\"],[\"photos\"],[\"camera\"],[\"profile\"],[\"photos\"],[\"project\"],[\"photos\"],[\"photos\"],[\"photos\"],[\"photos\"],[\"photos\"],[\"photos\"],[\"photos\"],[\"photos\"],[\"photos\"],[\"photos\"],[\"photos\"],[\"end\"],[\"camera\"],[\"photos\"],[\"profile\"],[\"upgrade\"],[\"camera\"],[\"project\"],[\"samples\"],[\"profile\"],[\"photos\"],[\"camera\"],[\"profile\"],[\"photos\"],[\"project\"],[\"photos\"],[\"photos\"],[\"photos\"],[\"photos\"],[\"photos\"],[\"photos\"],[\"photos\"],[\"photos\"],[\"photos\"],[\"end\"],[\"camera\"],[\"photos\"],[\"profile\"],[\"upgrade\"],[\"camera\"],[\"project\"],[\"samples\"],[\"profile\"],[\"photos\"],[\"camera\"],[\"profile\"],[\"photos\"],[\"project\"],[\"photos\"],[\"photos\"],[\"photos\"],[\"photos\"],[\"photos\"],[\"photos\"],[\"photos\"],[\"photos\"],[\"end\"],[\"camera\"],[\"photos\"],[\"profile\"],[\"upgrade\"],[\"camera\"],[\"project\"],[\"samples\"],[\"profile\"],[\"photos\"],[\"camera\"],[\"profile\"],[\"photos\"],[\"project\"],[\"photos\"],[\"photos\"],[\"photos\"],[\"photos\"],[\"photos\"],[\"photos\"],[\"end\"],[\"camera\"],[\"photos\"],[\"profile\"],[\"upgrade\"],[\"camera\"],[\"project\"],[\"samples\"],[\"profile\"],[\"photos\"],[\"camera\"],[\"profile\"],[\"photos\"],[\"photos\"],[\"photos\"],[\"photos\"],[\"project\"],[\"photos\"],[\"end\"],[\"camera\"],[\"photos\"],[\"profile\"],[\"upgrade\"],[\"camera\"],[\"project\"],[\"samples\"],[\"photos\"],[\"project\"],[\"photos\"],[\"profile\"],[\"photos\"],[\"camera\"],[\"profile\"],[\"photos\"],[\"photos\"],[\"end\"],[\"camera\"],[\"photos\"],[\"profile\"],[\"upgrade\"],[\"profile\"],[\"photos\"],[\"camera\"],[\"project\"],[\"samples\"],[\"photos\"],[\"camera\"],[\"profile\"],[\"project\"],[\"photos\"],[\"end\"],[\"project\"],[\"camera\"],[\"profile\"],[\"project\"],[\"samples\"],[\"camera\"],[\"photos\"],[\"profile\"],[\"upgrade\"],[\"photos\"],[\"camera\"],[\"end\"],[\"photos\"],[\"profile\"],[\"project\"],[\"samples\"],[\"upgrade\"],[\"(?)\"]],\"domain\":{\"x\":[0.0,1.0],\"y\":[0.0,1.0]},\"hovertemplate\":\"labels=%{label}<br>occupancy=%{value}<br>parent=%{parent}<br>id=%{id}<br>1=%{customdata[0]}<extra></extra>\",\"ids\":[\"discover/photos/end/ / / / / / / / / \",\"discover/project/discover/end/ / / / / / / / \",\"discover/camera/discover/photos/end/ / / / / / / \",\"discover/end/ / / / / / / / / / \",\"discover/photos/usephoto/removebackground/nextremove/editor/editor/editor/editor/share/editor/end\",\"discover/photos/usephoto/removebackground/nextremove/crop/editor/share/shared/end/ / \",\"discover/photos/usephoto/removebackground/nextremove/editor/editor/editor/editor/end/ / \",\"discover/photos/usephoto/nextbutton/crop/editor/editorback/saveproject/end/ / / \",\"discover/photos/usephoto/removebackground/nextremove/editor/editor/editor/end/ / / \",\"discover/photos/usephoto/nextbutton/crop/editor/editorback/discover/end/ / / \",\"discover/photos/usephoto/nextbutton/editor/share/saveimage/end/ / / / \",\"discover/photos/usephoto/removebackground/nextremove/crop/editor/end/ / / / \",\"discover/photos/usephoto/removebackground/nextremove/editor/end/ / / / / \",\"discover/photos/usephoto/nextbutton/crop/editor/end/ / / / / \",\"discover/photos/usephoto/removebackground/nextremove/editor/editor/editor/editor/share/saveimage/end\",\"discover/photos/usephoto/removebackground/nextremove/editor/editor/editor/editor/editorback/editorbackcancel/end\",\"discover/photos/usephoto/discover/end/ / / / / / / \",\"discover/profile/discover/camera/end/ / / / / / / \",\"discover/camera/end/ / / / / / / / / \",\"discover/profile/discover/photos/end/ / / / / / / \",\"discover/upgrade/end/ / / / / / / / / \",\"discover/photos/usephoto/removebackground/end/ / / / / / / \",\"discover/samples/editor/end/ / / / / / / / \",\"discover/project/collection/project/discover/end/ / / / / / \",\"discover/camera/discover/end/ / / / / / / / \",\"discover/profile/end/ / / / / / / / / \",\"discover/end/ / / / / / / / / \",\"discover/camera/end/ / / / / / / / \",\"discover/photos/end/ / / / / / / / \",\"discover/profile/end/ / / / / / / / \",\"discover/upgrade/end/ / / / / / / / \",\"discover/camera/discover/end/ / / / / / / \",\"discover/project/discover/end/ / / / / / / \",\"discover/samples/editor/end/ / / / / / / \",\"discover/profile/discover/camera/end/ / / / / / \",\"discover/photos/usephoto/discover/end/ / / / / / \",\"discover/camera/discover/photos/end/ / / / / / \",\"discover/profile/discover/photos/end/ / / / / / \",\"discover/photos/usephoto/removebackground/end/ / / / / / \",\"discover/project/collection/project/discover/end/ / / / / \",\"discover/photos/usephoto/nextbutton/crop/editor/end/ / / / \",\"discover/photos/usephoto/removebackground/nextremove/editor/end/ / / / \",\"discover/photos/usephoto/removebackground/nextremove/crop/editor/end/ / / \",\"discover/photos/usephoto/nextbutton/editor/share/saveimage/end/ / / \",\"discover/photos/usephoto/nextbutton/crop/editor/editorback/discover/end/ / \",\"discover/photos/usephoto/removebackground/nextremove/editor/editor/editor/end/ / \",\"discover/photos/usephoto/nextbutton/crop/editor/editorback/saveproject/end/ / \",\"discover/photos/usephoto/removebackground/nextremove/editor/editor/editor/editor/end/ \",\"discover/photos/usephoto/removebackground/nextremove/crop/editor/share/shared/end/ \",\"discover/photos/usephoto/removebackground/nextremove/editor/editor/editor/editor/share/editor\",\"discover/photos/usephoto/removebackground/nextremove/editor/editor/editor/editor/editorback/editorbackcancel\",\"discover/photos/usephoto/removebackground/nextremove/editor/editor/editor/editor/share/saveimage\",\"discover/end/ / / / / / / / \",\"discover/camera/end/ / / / / / / \",\"discover/photos/end/ / / / / / / \",\"discover/profile/end/ / / / / / / \",\"discover/upgrade/end/ / / / / / / \",\"discover/camera/discover/end/ / / / / / \",\"discover/project/discover/end/ / / / / / \",\"discover/samples/editor/end/ / / / / / \",\"discover/profile/discover/camera/end/ / / / / \",\"discover/photos/usephoto/discover/end/ / / / / \",\"discover/camera/discover/photos/end/ / / / / \",\"discover/profile/discover/photos/end/ / / / / \",\"discover/photos/usephoto/removebackground/end/ / / / / \",\"discover/project/collection/project/discover/end/ / / / \",\"discover/photos/usephoto/nextbutton/crop/editor/end/ / / \",\"discover/photos/usephoto/removebackground/nextremove/editor/end/ / / \",\"discover/photos/usephoto/removebackground/nextremove/crop/editor/end/ / \",\"discover/photos/usephoto/nextbutton/editor/share/saveimage/end/ / \",\"discover/photos/usephoto/nextbutton/crop/editor/editorback/discover/end/ \",\"discover/photos/usephoto/removebackground/nextremove/editor/editor/editor/end/ \",\"discover/photos/usephoto/nextbutton/crop/editor/editorback/saveproject/end/ \",\"discover/photos/usephoto/removebackground/nextremove/editor/editor/editor/editor/editorback\",\"discover/photos/usephoto/removebackground/nextremove/editor/editor/editor/editor/end\",\"discover/photos/usephoto/removebackground/nextremove/crop/editor/share/shared/end\",\"discover/photos/usephoto/removebackground/nextremove/editor/editor/editor/editor/share\",\"discover/end/ / / / / / / \",\"discover/camera/end/ / / / / / \",\"discover/photos/end/ / / / / / \",\"discover/profile/end/ / / / / / \",\"discover/upgrade/end/ / / / / / \",\"discover/camera/discover/end/ / / / / \",\"discover/project/discover/end/ / / / / \",\"discover/samples/editor/end/ / / / / \",\"discover/profile/discover/camera/end/ / / / \",\"discover/photos/usephoto/discover/end/ / / / \",\"discover/camera/discover/photos/end/ / / / \",\"discover/profile/discover/photos/end/ / / / \",\"discover/photos/usephoto/removebackground/end/ / / / \",\"discover/project/collection/project/discover/end/ / / \",\"discover/photos/usephoto/nextbutton/crop/editor/end/ / \",\"discover/photos/usephoto/removebackground/nextremove/editor/end/ / \",\"discover/photos/usephoto/removebackground/nextremove/crop/editor/end/ \",\"discover/photos/usephoto/nextbutton/editor/share/saveimage/end/ \",\"discover/photos/usephoto/removebackground/nextremove/editor/editor/editor/editor\",\"discover/photos/usephoto/nextbutton/crop/editor/editorback/discover/end\",\"discover/photos/usephoto/removebackground/nextremove/editor/editor/editor/end\",\"discover/photos/usephoto/nextbutton/crop/editor/editorback/saveproject/end\",\"discover/photos/usephoto/removebackground/nextremove/crop/editor/share/shared\",\"discover/end/ / / / / / \",\"discover/camera/end/ / / / / \",\"discover/photos/end/ / / / / \",\"discover/profile/end/ / / / / \",\"discover/upgrade/end/ / / / / \",\"discover/camera/discover/end/ / / / \",\"discover/project/discover/end/ / / / \",\"discover/samples/editor/end/ / / / \",\"discover/profile/discover/camera/end/ / / \",\"discover/photos/usephoto/discover/end/ / / \",\"discover/camera/discover/photos/end/ / / \",\"discover/profile/discover/photos/end/ / / \",\"discover/photos/usephoto/removebackground/end/ / / \",\"discover/project/collection/project/discover/end/ / \",\"discover/photos/usephoto/nextbutton/crop/editor/end/ \",\"discover/photos/usephoto/removebackground/nextremove/editor/end/ \",\"discover/photos/usephoto/nextbutton/crop/editor/editorback/discover\",\"discover/photos/usephoto/removebackground/nextremove/editor/editor/editor\",\"discover/photos/usephoto/removebackground/nextremove/crop/editor/end\",\"discover/photos/usephoto/nextbutton/editor/share/saveimage/end\",\"discover/photos/usephoto/nextbutton/crop/editor/editorback/saveproject\",\"discover/photos/usephoto/removebackground/nextremove/crop/editor/share\",\"discover/end/ / / / / \",\"discover/camera/end/ / / / \",\"discover/photos/end/ / / / \",\"discover/profile/end/ / / / \",\"discover/upgrade/end/ / / / \",\"discover/camera/discover/end/ / / \",\"discover/project/discover/end/ / / \",\"discover/samples/editor/end/ / / \",\"discover/profile/discover/camera/end/ / \",\"discover/photos/usephoto/discover/end/ / \",\"discover/camera/discover/photos/end/ / \",\"discover/profile/discover/photos/end/ / \",\"discover/photos/usephoto/removebackground/end/ / \",\"discover/project/collection/project/discover/end/ \",\"discover/photos/usephoto/removebackground/nextremove/crop/editor\",\"discover/photos/usephoto/removebackground/nextremove/editor/editor\",\"discover/photos/usephoto/nextbutton/crop/editor/editorback\",\"discover/photos/usephoto/nextbutton/crop/editor/end\",\"discover/photos/usephoto/removebackground/nextremove/editor/end\",\"discover/photos/usephoto/nextbutton/editor/share/saveimage\",\"discover/end/ / / / \",\"discover/camera/end/ / / \",\"discover/photos/end/ / / \",\"discover/profile/end/ / / \",\"discover/upgrade/end/ / / \",\"discover/camera/discover/end/ / \",\"discover/project/discover/end/ / \",\"discover/samples/editor/end/ / \",\"discover/profile/discover/camera/end/ \",\"discover/photos/usephoto/discover/end/ \",\"discover/camera/discover/photos/end/ \",\"discover/profile/discover/photos/end/ \",\"discover/photos/usephoto/removebackground/end/ \",\"discover/photos/usephoto/removebackground/nextremove/crop\",\"discover/photos/usephoto/nextbutton/crop/editor\",\"discover/photos/usephoto/removebackground/nextremove/editor\",\"discover/project/collection/project/discover/end\",\"discover/photos/usephoto/nextbutton/editor/share\",\"discover/end/ / / \",\"discover/camera/end/ / \",\"discover/photos/end/ / \",\"discover/profile/end/ / \",\"discover/upgrade/end/ / \",\"discover/camera/discover/end/ \",\"discover/project/discover/end/ \",\"discover/samples/editor/end/ \",\"discover/photos/usephoto/nextbutton/crop\",\"discover/project/collection/project/discover\",\"discover/photos/usephoto/nextbutton/editor\",\"discover/profile/discover/camera/end\",\"discover/photos/usephoto/discover/end\",\"discover/camera/discover/photos/end\",\"discover/profile/discover/photos/end\",\"discover/photos/usephoto/removebackground/end\",\"discover/photos/usephoto/removebackground/nextremove\",\"discover/end/ / \",\"discover/camera/end/ \",\"discover/photos/end/ \",\"discover/profile/end/ \",\"discover/upgrade/end/ \",\"discover/profile/discover/camera\",\"discover/photos/usephoto/discover\",\"discover/camera/discover/end\",\"discover/project/discover/end\",\"discover/samples/editor/end\",\"discover/photos/usephoto/nextbutton\",\"discover/camera/discover/photos\",\"discover/profile/discover/photos\",\"discover/project/collection/project\",\"discover/photos/usephoto/removebackground\",\"discover/end/ \",\"discover/project/collection\",\"discover/camera/discover\",\"discover/profile/discover\",\"discover/project/discover\",\"discover/samples/editor\",\"discover/camera/end\",\"discover/photos/end\",\"discover/profile/end\",\"discover/upgrade/end\",\"discover/photos/usephoto\",\"discover/camera\",\"discover/end\",\"discover/photos\",\"discover/profile\",\"discover/project\",\"discover/samples\",\"discover/upgrade\",\"discover\"],\"labels\":[\" \",\" \",\" \",\" \",\"end\",\" \",\" \",\" \",\" \",\" \",\" \",\" \",\" \",\" \",\"end\",\"end\",\" \",\" \",\" \",\" \",\" \",\" \",\" \",\" \",\" \",\" \",\" \",\" \",\" \",\" \",\" \",\" \",\" \",\" \",\" \",\" \",\" \",\" \",\" \",\" \",\" \",\" \",\" \",\" \",\" \",\" \",\" \",\" \",\" \",\"editor\",\"editorbackcancel\",\"saveimage\",\" \",\" \",\" \",\" \",\" \",\" \",\" \",\" \",\" \",\" \",\" \",\" \",\" \",\" \",\" \",\" \",\" \",\" \",\" \",\" \",\" \",\"editorback\",\"end\",\"end\",\"share\",\" \",\" \",\" \",\" \",\" \",\" \",\" \",\" \",\" \",\" \",\" \",\" \",\" \",\" \",\" \",\" \",\" \",\" \",\"editor\",\"end\",\"end\",\"end\",\"shared\",\" \",\" \",\" \",\" \",\" \",\" \",\" \",\" \",\" \",\" \",\" \",\" \",\" \",\" \",\" \",\" \",\"discover\",\"editor\",\"end\",\"end\",\"saveproject\",\"share\",\" \",\" \",\" \",\" \",\" \",\" \",\" \",\" \",\" \",\" \",\" \",\" \",\" \",\" \",\"editor\",\"editor\",\"editorback\",\"end\",\"end\",\"saveimage\",\" \",\" \",\" \",\" \",\" \",\" \",\" \",\" \",\" \",\" \",\" \",\" \",\" \",\"crop\",\"editor\",\"editor\",\"end\",\"share\",\" \",\" \",\" \",\" \",\" \",\" \",\" \",\" \",\"crop\",\"discover\",\"editor\",\"end\",\"end\",\"end\",\"end\",\"end\",\"nextremove\",\" \",\" \",\" \",\" \",\" \",\"camera\",\"discover\",\"end\",\"end\",\"end\",\"nextbutton\",\"photos\",\"photos\",\"project\",\"removebackground\",\" \",\"collection\",\"discover\",\"discover\",\"discover\",\"editor\",\"end\",\"end\",\"end\",\"end\",\"usephoto\",\"camera\",\"end\",\"photos\",\"profile\",\"project\",\"samples\",\"upgrade\",\"discover\"],\"marker\":{\"colors\":[\"rgba(0,0,0,0)\",\"rgba(0,0,0,0)\",\"rgba(0,0,0,0)\",\"rgba(0,0,0,0)\",\"#636efa\",\"rgba(0,0,0,0)\",\"rgba(0,0,0,0)\",\"rgba(0,0,0,0)\",\"rgba(0,0,0,0)\",\"rgba(0,0,0,0)\",\"rgba(0,0,0,0)\",\"rgba(0,0,0,0)\",\"rgba(0,0,0,0)\",\"rgba(0,0,0,0)\",\"#636efa\",\"#636efa\",\"rgba(0,0,0,0)\",\"rgba(0,0,0,0)\",\"rgba(0,0,0,0)\",\"rgba(0,0,0,0)\",\"rgba(0,0,0,0)\",\"rgba(0,0,0,0)\",\"rgba(0,0,0,0)\",\"rgba(0,0,0,0)\",\"rgba(0,0,0,0)\",\"rgba(0,0,0,0)\",\"rgba(0,0,0,0)\",\"rgba(0,0,0,0)\",\"rgba(0,0,0,0)\",\"rgba(0,0,0,0)\",\"rgba(0,0,0,0)\",\"rgba(0,0,0,0)\",\"rgba(0,0,0,0)\",\"rgba(0,0,0,0)\",\"rgba(0,0,0,0)\",\"rgba(0,0,0,0)\",\"rgba(0,0,0,0)\",\"rgba(0,0,0,0)\",\"rgba(0,0,0,0)\",\"rgba(0,0,0,0)\",\"rgba(0,0,0,0)\",\"rgba(0,0,0,0)\",\"rgba(0,0,0,0)\",\"rgba(0,0,0,0)\",\"rgba(0,0,0,0)\",\"rgba(0,0,0,0)\",\"rgba(0,0,0,0)\",\"rgba(0,0,0,0)\",\"rgba(0,0,0,0)\",\"#636efa\",\"#636efa\",\"#636efa\",\"rgba(0,0,0,0)\",\"rgba(0,0,0,0)\",\"rgba(0,0,0,0)\",\"rgba(0,0,0,0)\",\"rgba(0,0,0,0)\",\"rgba(0,0,0,0)\",\"rgba(0,0,0,0)\",\"rgba(0,0,0,0)\",\"rgba(0,0,0,0)\",\"rgba(0,0,0,0)\",\"rgba(0,0,0,0)\",\"rgba(0,0,0,0)\",\"rgba(0,0,0,0)\",\"rgba(0,0,0,0)\",\"rgba(0,0,0,0)\",\"rgba(0,0,0,0)\",\"rgba(0,0,0,0)\",\"rgba(0,0,0,0)\",\"rgba(0,0,0,0)\",\"rgba(0,0,0,0)\",\"rgba(0,0,0,0)\",\"#636efa\",\"#636efa\",\"#636efa\",\"#636efa\",\"rgba(0,0,0,0)\",\"rgba(0,0,0,0)\",\"rgba(0,0,0,0)\",\"rgba(0,0,0,0)\",\"rgba(0,0,0,0)\",\"rgba(0,0,0,0)\",\"rgba(0,0,0,0)\",\"rgba(0,0,0,0)\",\"rgba(0,0,0,0)\",\"rgba(0,0,0,0)\",\"rgba(0,0,0,0)\",\"rgba(0,0,0,0)\",\"rgba(0,0,0,0)\",\"rgba(0,0,0,0)\",\"rgba(0,0,0,0)\",\"rgba(0,0,0,0)\",\"rgba(0,0,0,0)\",\"rgba(0,0,0,0)\",\"#636efa\",\"#636efa\",\"#636efa\",\"#636efa\",\"#636efa\",\"rgba(0,0,0,0)\",\"rgba(0,0,0,0)\",\"rgba(0,0,0,0)\",\"rgba(0,0,0,0)\",\"rgba(0,0,0,0)\",\"rgba(0,0,0,0)\",\"rgba(0,0,0,0)\",\"rgba(0,0,0,0)\",\"rgba(0,0,0,0)\",\"rgba(0,0,0,0)\",\"rgba(0,0,0,0)\",\"rgba(0,0,0,0)\",\"rgba(0,0,0,0)\",\"rgba(0,0,0,0)\",\"rgba(0,0,0,0)\",\"rgba(0,0,0,0)\",\"#636efa\",\"#636efa\",\"#636efa\",\"#636efa\",\"#636efa\",\"#636efa\",\"rgba(0,0,0,0)\",\"rgba(0,0,0,0)\",\"rgba(0,0,0,0)\",\"rgba(0,0,0,0)\",\"rgba(0,0,0,0)\",\"rgba(0,0,0,0)\",\"rgba(0,0,0,0)\",\"rgba(0,0,0,0)\",\"rgba(0,0,0,0)\",\"rgba(0,0,0,0)\",\"rgba(0,0,0,0)\",\"rgba(0,0,0,0)\",\"rgba(0,0,0,0)\",\"rgba(0,0,0,0)\",\"#636efa\",\"#636efa\",\"#636efa\",\"#636efa\",\"#636efa\",\"#636efa\",\"rgba(0,0,0,0)\",\"rgba(0,0,0,0)\",\"rgba(0,0,0,0)\",\"rgba(0,0,0,0)\",\"rgba(0,0,0,0)\",\"rgba(0,0,0,0)\",\"rgba(0,0,0,0)\",\"rgba(0,0,0,0)\",\"rgba(0,0,0,0)\",\"rgba(0,0,0,0)\",\"rgba(0,0,0,0)\",\"rgba(0,0,0,0)\",\"rgba(0,0,0,0)\",\"#636efa\",\"#636efa\",\"#636efa\",\"#EF553B\",\"#636efa\",\"rgba(0,0,0,0)\",\"rgba(0,0,0,0)\",\"rgba(0,0,0,0)\",\"rgba(0,0,0,0)\",\"rgba(0,0,0,0)\",\"rgba(0,0,0,0)\",\"rgba(0,0,0,0)\",\"rgba(0,0,0,0)\",\"#636efa\",\"#EF553B\",\"#636efa\",\"#FFA15A\",\"#636efa\",\"#00cc96\",\"#FFA15A\",\"#636efa\",\"#636efa\",\"rgba(0,0,0,0)\",\"rgba(0,0,0,0)\",\"rgba(0,0,0,0)\",\"rgba(0,0,0,0)\",\"rgba(0,0,0,0)\",\"#FFA15A\",\"#636efa\",\"#00cc96\",\"#EF553B\",\"#FF6692\",\"#636efa\",\"#00cc96\",\"#FFA15A\",\"#EF553B\",\"#636efa\",\"rgba(0,0,0,0)\",\"#EF553B\",\"#00cc96\",\"#FFA15A\",\"#EF553B\",\"#FF6692\",\"#00cc96\",\"#636efa\",\"#FFA15A\",\"#19d3f3\",\"#636efa\",\"#00cc96\",\"#ab63fa\",\"#636efa\",\"#FFA15A\",\"#EF553B\",\"#FF6692\",\"#19d3f3\",\"#B6E880\"]},\"name\":\"\",\"parents\":[\"discover/photos/end/ / / / / / / / \",\"discover/project/discover/end/ / / / / / / \",\"discover/camera/discover/photos/end/ / / / / / \",\"discover/end/ / / / / / / / / \",\"discover/photos/usephoto/removebackground/nextremove/editor/editor/editor/editor/share/editor\",\"discover/photos/usephoto/removebackground/nextremove/crop/editor/share/shared/end/ \",\"discover/photos/usephoto/removebackground/nextremove/editor/editor/editor/editor/end/ \",\"discover/photos/usephoto/nextbutton/crop/editor/editorback/saveproject/end/ / \",\"discover/photos/usephoto/removebackground/nextremove/editor/editor/editor/end/ / \",\"discover/photos/usephoto/nextbutton/crop/editor/editorback/discover/end/ / \",\"discover/photos/usephoto/nextbutton/editor/share/saveimage/end/ / / \",\"discover/photos/usephoto/removebackground/nextremove/crop/editor/end/ / / \",\"discover/photos/usephoto/removebackground/nextremove/editor/end/ / / / \",\"discover/photos/usephoto/nextbutton/crop/editor/end/ / / / \",\"discover/photos/usephoto/removebackground/nextremove/editor/editor/editor/editor/share/saveimage\",\"discover/photos/usephoto/removebackground/nextremove/editor/editor/editor/editor/editorback/editorbackcancel\",\"discover/photos/usephoto/discover/end/ / / / / / \",\"discover/profile/discover/camera/end/ / / / / / \",\"discover/camera/end/ / / / / / / / \",\"discover/profile/discover/photos/end/ / / / / / \",\"discover/upgrade/end/ / / / / / / / \",\"discover/photos/usephoto/removebackground/end/ / / / / / \",\"discover/samples/editor/end/ / / / / / / \",\"discover/project/collection/project/discover/end/ / / / / \",\"discover/camera/discover/end/ / / / / / / \",\"discover/profile/end/ / / / / / / / \",\"discover/end/ / / / / / / / \",\"discover/camera/end/ / / / / / / \",\"discover/photos/end/ / / / / / / \",\"discover/profile/end/ / / / / / / \",\"discover/upgrade/end/ / / / / / / \",\"discover/camera/discover/end/ / / / / / \",\"discover/project/discover/end/ / / / / / \",\"discover/samples/editor/end/ / / / / / \",\"discover/profile/discover/camera/end/ / / / / \",\"discover/photos/usephoto/discover/end/ / / / / \",\"discover/camera/discover/photos/end/ / / / / \",\"discover/profile/discover/photos/end/ / / / / \",\"discover/photos/usephoto/removebackground/end/ / / / / \",\"discover/project/collection/project/discover/end/ / / / \",\"discover/photos/usephoto/nextbutton/crop/editor/end/ / / \",\"discover/photos/usephoto/removebackground/nextremove/editor/end/ / / \",\"discover/photos/usephoto/removebackground/nextremove/crop/editor/end/ / \",\"discover/photos/usephoto/nextbutton/editor/share/saveimage/end/ / \",\"discover/photos/usephoto/nextbutton/crop/editor/editorback/discover/end/ \",\"discover/photos/usephoto/removebackground/nextremove/editor/editor/editor/end/ \",\"discover/photos/usephoto/nextbutton/crop/editor/editorback/saveproject/end/ \",\"discover/photos/usephoto/removebackground/nextremove/editor/editor/editor/editor/end\",\"discover/photos/usephoto/removebackground/nextremove/crop/editor/share/shared/end\",\"discover/photos/usephoto/removebackground/nextremove/editor/editor/editor/editor/share\",\"discover/photos/usephoto/removebackground/nextremove/editor/editor/editor/editor/editorback\",\"discover/photos/usephoto/removebackground/nextremove/editor/editor/editor/editor/share\",\"discover/end/ / / / / / / \",\"discover/camera/end/ / / / / / \",\"discover/photos/end/ / / / / / \",\"discover/profile/end/ / / / / / \",\"discover/upgrade/end/ / / / / / \",\"discover/camera/discover/end/ / / / / \",\"discover/project/discover/end/ / / / / \",\"discover/samples/editor/end/ / / / / \",\"discover/profile/discover/camera/end/ / / / \",\"discover/photos/usephoto/discover/end/ / / / \",\"discover/camera/discover/photos/end/ / / / \",\"discover/profile/discover/photos/end/ / / / \",\"discover/photos/usephoto/removebackground/end/ / / / \",\"discover/project/collection/project/discover/end/ / / \",\"discover/photos/usephoto/nextbutton/crop/editor/end/ / \",\"discover/photos/usephoto/removebackground/nextremove/editor/end/ / \",\"discover/photos/usephoto/removebackground/nextremove/crop/editor/end/ \",\"discover/photos/usephoto/nextbutton/editor/share/saveimage/end/ \",\"discover/photos/usephoto/nextbutton/crop/editor/editorback/discover/end\",\"discover/photos/usephoto/removebackground/nextremove/editor/editor/editor/end\",\"discover/photos/usephoto/nextbutton/crop/editor/editorback/saveproject/end\",\"discover/photos/usephoto/removebackground/nextremove/editor/editor/editor/editor\",\"discover/photos/usephoto/removebackground/nextremove/editor/editor/editor/editor\",\"discover/photos/usephoto/removebackground/nextremove/crop/editor/share/shared\",\"discover/photos/usephoto/removebackground/nextremove/editor/editor/editor/editor\",\"discover/end/ / / / / / \",\"discover/camera/end/ / / / / \",\"discover/photos/end/ / / / / \",\"discover/profile/end/ / / / / \",\"discover/upgrade/end/ / / / / \",\"discover/camera/discover/end/ / / / \",\"discover/project/discover/end/ / / / \",\"discover/samples/editor/end/ / / / \",\"discover/profile/discover/camera/end/ / / \",\"discover/photos/usephoto/discover/end/ / / \",\"discover/camera/discover/photos/end/ / / \",\"discover/profile/discover/photos/end/ / / \",\"discover/photos/usephoto/removebackground/end/ / / \",\"discover/project/collection/project/discover/end/ / \",\"discover/photos/usephoto/nextbutton/crop/editor/end/ \",\"discover/photos/usephoto/removebackground/nextremove/editor/end/ \",\"discover/photos/usephoto/removebackground/nextremove/crop/editor/end\",\"discover/photos/usephoto/nextbutton/editor/share/saveimage/end\",\"discover/photos/usephoto/removebackground/nextremove/editor/editor/editor\",\"discover/photos/usephoto/nextbutton/crop/editor/editorback/discover\",\"discover/photos/usephoto/removebackground/nextremove/editor/editor/editor\",\"discover/photos/usephoto/nextbutton/crop/editor/editorback/saveproject\",\"discover/photos/usephoto/removebackground/nextremove/crop/editor/share\",\"discover/end/ / / / / \",\"discover/camera/end/ / / / \",\"discover/photos/end/ / / / \",\"discover/profile/end/ / / / \",\"discover/upgrade/end/ / / / \",\"discover/camera/discover/end/ / / \",\"discover/project/discover/end/ / / \",\"discover/samples/editor/end/ / / \",\"discover/profile/discover/camera/end/ / \",\"discover/photos/usephoto/discover/end/ / \",\"discover/camera/discover/photos/end/ / \",\"discover/profile/discover/photos/end/ / \",\"discover/photos/usephoto/removebackground/end/ / \",\"discover/project/collection/project/discover/end/ \",\"discover/photos/usephoto/nextbutton/crop/editor/end\",\"discover/photos/usephoto/removebackground/nextremove/editor/end\",\"discover/photos/usephoto/nextbutton/crop/editor/editorback\",\"discover/photos/usephoto/removebackground/nextremove/editor/editor\",\"discover/photos/usephoto/removebackground/nextremove/crop/editor\",\"discover/photos/usephoto/nextbutton/editor/share/saveimage\",\"discover/photos/usephoto/nextbutton/crop/editor/editorback\",\"discover/photos/usephoto/removebackground/nextremove/crop/editor\",\"discover/end/ / / / \",\"discover/camera/end/ / / \",\"discover/photos/end/ / / \",\"discover/profile/end/ / / \",\"discover/upgrade/end/ / / \",\"discover/camera/discover/end/ / \",\"discover/project/discover/end/ / \",\"discover/samples/editor/end/ / \",\"discover/profile/discover/camera/end/ \",\"discover/photos/usephoto/discover/end/ \",\"discover/camera/discover/photos/end/ \",\"discover/profile/discover/photos/end/ \",\"discover/photos/usephoto/removebackground/end/ \",\"discover/project/collection/project/discover/end\",\"discover/photos/usephoto/removebackground/nextremove/crop\",\"discover/photos/usephoto/removebackground/nextremove/editor\",\"discover/photos/usephoto/nextbutton/crop/editor\",\"discover/photos/usephoto/nextbutton/crop/editor\",\"discover/photos/usephoto/removebackground/nextremove/editor\",\"discover/photos/usephoto/nextbutton/editor/share\",\"discover/end/ / / \",\"discover/camera/end/ / \",\"discover/photos/end/ / \",\"discover/profile/end/ / \",\"discover/upgrade/end/ / \",\"discover/camera/discover/end/ \",\"discover/project/discover/end/ \",\"discover/samples/editor/end/ \",\"discover/profile/discover/camera/end\",\"discover/photos/usephoto/discover/end\",\"discover/camera/discover/photos/end\",\"discover/profile/discover/photos/end\",\"discover/photos/usephoto/removebackground/end\",\"discover/photos/usephoto/removebackground/nextremove\",\"discover/photos/usephoto/nextbutton/crop\",\"discover/photos/usephoto/removebackground/nextremove\",\"discover/project/collection/project/discover\",\"discover/photos/usephoto/nextbutton/editor\",\"discover/end/ / \",\"discover/camera/end/ \",\"discover/photos/end/ \",\"discover/profile/end/ \",\"discover/upgrade/end/ \",\"discover/camera/discover/end\",\"discover/project/discover/end\",\"discover/samples/editor/end\",\"discover/photos/usephoto/nextbutton\",\"discover/project/collection/project\",\"discover/photos/usephoto/nextbutton\",\"discover/profile/discover/camera\",\"discover/photos/usephoto/discover\",\"discover/camera/discover/photos\",\"discover/profile/discover/photos\",\"discover/photos/usephoto/removebackground\",\"discover/photos/usephoto/removebackground\",\"discover/end/ \",\"discover/camera/end\",\"discover/photos/end\",\"discover/profile/end\",\"discover/upgrade/end\",\"discover/profile/discover\",\"discover/photos/usephoto\",\"discover/camera/discover\",\"discover/project/discover\",\"discover/samples/editor\",\"discover/photos/usephoto\",\"discover/camera/discover\",\"discover/profile/discover\",\"discover/project/collection\",\"discover/photos/usephoto\",\"discover/end\",\"discover/project\",\"discover/camera\",\"discover/profile\",\"discover/project\",\"discover/samples\",\"discover/camera\",\"discover/photos\",\"discover/profile\",\"discover/upgrade\",\"discover/photos\",\"discover\",\"discover\",\"discover\",\"discover\",\"discover\",\"discover\",\"discover\",\"\"],\"values\":[1.0,7.000000000000001,4.0,2.0,1.0,2.0,1.0,3.0,2.0,3.0,1.0,2.0,2.0,1.0,10.0,1.0,1.0,0.2,40.0,0.2,2.0,4.0,8.0,0.5,1.0,0.1,2.0,40.0,1.0,0.1,2.0,1.0,7.000000000000001,8.0,0.2,1.0,4.0,0.2,4.0,0.5,1.0,2.0,2.0,1.0,3.0,2.0,3.0,1.0,2.0,1.0,1.0,10.0,2.0,40.0,1.0,0.1,2.0,1.0,7.000000000000001,8.0,0.2,1.0,4.0,0.2,4.0,0.5,1.0,2.0,2.0,1.0,3.0,2.0,3.0,1.0,1.0,2.0,11.0,2.0,40.0,1.0,0.1,2.0,1.0,7.000000000000001,8.0,0.2,1.0,4.0,0.2,4.0,0.5,1.0,2.0,2.0,1.0,13.0,3.0,2.0,3.0,2.0,2.0,40.0,1.0,0.1,2.0,1.0,7.000000000000001,8.0,0.2,1.0,4.0,0.2,4.0,0.5,1.0,2.0,3.0,15.0,2.0,1.0,3.0,2.0,2.0,40.0,1.0,0.1,2.0,1.0,7.000000000000001,8.0,0.2,1.0,4.0,0.2,4.0,0.5,4.0,15.0,6.0,1.0,2.0,1.0,2.0,40.0,1.0,0.1,2.0,1.0,7.000000000000001,8.0,0.2,1.0,4.0,0.2,4.0,4.0,7.0,17.0,0.5,1.0,2.0,40.0,1.0,0.1,2.0,1.0,7.000000000000001,8.0,7.0,0.5,1.0,0.2,1.0,4.0,0.2,4.0,21.0,2.0,40.0,1.0,0.1,2.0,0.2,1.0,1.0,7.000000000000001,8.0,8.0,4.0,0.2,0.5,25.0,2.0,0.5,5.0,0.4,7.000000000000001,8.0,40.0,1.0,0.1,2.0,34.0,45.0,2.0,35.0,0.5,7.500000000000001,8.0,2.0,100.0],\"type\":\"sunburst\"}],                        {\"template\":{\"data\":{\"histogram2dcontour\":[{\"type\":\"histogram2dcontour\",\"colorbar\":{\"outlinewidth\":0,\"ticks\":\"\"},\"colorscale\":[[0.0,\"#0d0887\"],[0.1111111111111111,\"#46039f\"],[0.2222222222222222,\"#7201a8\"],[0.3333333333333333,\"#9c179e\"],[0.4444444444444444,\"#bd3786\"],[0.5555555555555556,\"#d8576b\"],[0.6666666666666666,\"#ed7953\"],[0.7777777777777778,\"#fb9f3a\"],[0.8888888888888888,\"#fdca26\"],[1.0,\"#f0f921\"]]}],\"choropleth\":[{\"type\":\"choropleth\",\"colorbar\":{\"outlinewidth\":0,\"ticks\":\"\"}}],\"histogram2d\":[{\"type\":\"histogram2d\",\"colorbar\":{\"outlinewidth\":0,\"ticks\":\"\"},\"colorscale\":[[0.0,\"#0d0887\"],[0.1111111111111111,\"#46039f\"],[0.2222222222222222,\"#7201a8\"],[0.3333333333333333,\"#9c179e\"],[0.4444444444444444,\"#bd3786\"],[0.5555555555555556,\"#d8576b\"],[0.6666666666666666,\"#ed7953\"],[0.7777777777777778,\"#fb9f3a\"],[0.8888888888888888,\"#fdca26\"],[1.0,\"#f0f921\"]]}],\"heatmap\":[{\"type\":\"heatmap\",\"colorbar\":{\"outlinewidth\":0,\"ticks\":\"\"},\"colorscale\":[[0.0,\"#0d0887\"],[0.1111111111111111,\"#46039f\"],[0.2222222222222222,\"#7201a8\"],[0.3333333333333333,\"#9c179e\"],[0.4444444444444444,\"#bd3786\"],[0.5555555555555556,\"#d8576b\"],[0.6666666666666666,\"#ed7953\"],[0.7777777777777778,\"#fb9f3a\"],[0.8888888888888888,\"#fdca26\"],[1.0,\"#f0f921\"]]}],\"heatmapgl\":[{\"type\":\"heatmapgl\",\"colorbar\":{\"outlinewidth\":0,\"ticks\":\"\"},\"colorscale\":[[0.0,\"#0d0887\"],[0.1111111111111111,\"#46039f\"],[0.2222222222222222,\"#7201a8\"],[0.3333333333333333,\"#9c179e\"],[0.4444444444444444,\"#bd3786\"],[0.5555555555555556,\"#d8576b\"],[0.6666666666666666,\"#ed7953\"],[0.7777777777777778,\"#fb9f3a\"],[0.8888888888888888,\"#fdca26\"],[1.0,\"#f0f921\"]]}],\"contourcarpet\":[{\"type\":\"contourcarpet\",\"colorbar\":{\"outlinewidth\":0,\"ticks\":\"\"}}],\"contour\":[{\"type\":\"contour\",\"colorbar\":{\"outlinewidth\":0,\"ticks\":\"\"},\"colorscale\":[[0.0,\"#0d0887\"],[0.1111111111111111,\"#46039f\"],[0.2222222222222222,\"#7201a8\"],[0.3333333333333333,\"#9c179e\"],[0.4444444444444444,\"#bd3786\"],[0.5555555555555556,\"#d8576b\"],[0.6666666666666666,\"#ed7953\"],[0.7777777777777778,\"#fb9f3a\"],[0.8888888888888888,\"#fdca26\"],[1.0,\"#f0f921\"]]}],\"surface\":[{\"type\":\"surface\",\"colorbar\":{\"outlinewidth\":0,\"ticks\":\"\"},\"colorscale\":[[0.0,\"#0d0887\"],[0.1111111111111111,\"#46039f\"],[0.2222222222222222,\"#7201a8\"],[0.3333333333333333,\"#9c179e\"],[0.4444444444444444,\"#bd3786\"],[0.5555555555555556,\"#d8576b\"],[0.6666666666666666,\"#ed7953\"],[0.7777777777777778,\"#fb9f3a\"],[0.8888888888888888,\"#fdca26\"],[1.0,\"#f0f921\"]]}],\"mesh3d\":[{\"type\":\"mesh3d\",\"colorbar\":{\"outlinewidth\":0,\"ticks\":\"\"}}],\"scatter\":[{\"fillpattern\":{\"fillmode\":\"overlay\",\"size\":10,\"solidity\":0.2},\"type\":\"scatter\"}],\"parcoords\":[{\"type\":\"parcoords\",\"line\":{\"colorbar\":{\"outlinewidth\":0,\"ticks\":\"\"}}}],\"scatterpolargl\":[{\"type\":\"scatterpolargl\",\"marker\":{\"colorbar\":{\"outlinewidth\":0,\"ticks\":\"\"}}}],\"bar\":[{\"error_x\":{\"color\":\"#2a3f5f\"},\"error_y\":{\"color\":\"#2a3f5f\"},\"marker\":{\"line\":{\"color\":\"#E5ECF6\",\"width\":0.5},\"pattern\":{\"fillmode\":\"overlay\",\"size\":10,\"solidity\":0.2}},\"type\":\"bar\"}],\"scattergeo\":[{\"type\":\"scattergeo\",\"marker\":{\"colorbar\":{\"outlinewidth\":0,\"ticks\":\"\"}}}],\"scatterpolar\":[{\"type\":\"scatterpolar\",\"marker\":{\"colorbar\":{\"outlinewidth\":0,\"ticks\":\"\"}}}],\"histogram\":[{\"marker\":{\"pattern\":{\"fillmode\":\"overlay\",\"size\":10,\"solidity\":0.2}},\"type\":\"histogram\"}],\"scattergl\":[{\"type\":\"scattergl\",\"marker\":{\"colorbar\":{\"outlinewidth\":0,\"ticks\":\"\"}}}],\"scatter3d\":[{\"type\":\"scatter3d\",\"line\":{\"colorbar\":{\"outlinewidth\":0,\"ticks\":\"\"}},\"marker\":{\"colorbar\":{\"outlinewidth\":0,\"ticks\":\"\"}}}],\"scattermapbox\":[{\"type\":\"scattermapbox\",\"marker\":{\"colorbar\":{\"outlinewidth\":0,\"ticks\":\"\"}}}],\"scatterternary\":[{\"type\":\"scatterternary\",\"marker\":{\"colorbar\":{\"outlinewidth\":0,\"ticks\":\"\"}}}],\"scattercarpet\":[{\"type\":\"scattercarpet\",\"marker\":{\"colorbar\":{\"outlinewidth\":0,\"ticks\":\"\"}}}],\"carpet\":[{\"aaxis\":{\"endlinecolor\":\"#2a3f5f\",\"gridcolor\":\"white\",\"linecolor\":\"white\",\"minorgridcolor\":\"white\",\"startlinecolor\":\"#2a3f5f\"},\"baxis\":{\"endlinecolor\":\"#2a3f5f\",\"gridcolor\":\"white\",\"linecolor\":\"white\",\"minorgridcolor\":\"white\",\"startlinecolor\":\"#2a3f5f\"},\"type\":\"carpet\"}],\"table\":[{\"cells\":{\"fill\":{\"color\":\"#EBF0F8\"},\"line\":{\"color\":\"white\"}},\"header\":{\"fill\":{\"color\":\"#C8D4E3\"},\"line\":{\"color\":\"white\"}},\"type\":\"table\"}],\"barpolar\":[{\"marker\":{\"line\":{\"color\":\"#E5ECF6\",\"width\":0.5},\"pattern\":{\"fillmode\":\"overlay\",\"size\":10,\"solidity\":0.2}},\"type\":\"barpolar\"}],\"pie\":[{\"automargin\":true,\"type\":\"pie\"}]},\"layout\":{\"autotypenumbers\":\"strict\",\"colorway\":[\"#636efa\",\"#EF553B\",\"#00cc96\",\"#ab63fa\",\"#FFA15A\",\"#19d3f3\",\"#FF6692\",\"#B6E880\",\"#FF97FF\",\"#FECB52\"],\"font\":{\"color\":\"#2a3f5f\"},\"hovermode\":\"closest\",\"hoverlabel\":{\"align\":\"left\"},\"paper_bgcolor\":\"white\",\"plot_bgcolor\":\"#E5ECF6\",\"polar\":{\"bgcolor\":\"#E5ECF6\",\"angularaxis\":{\"gridcolor\":\"white\",\"linecolor\":\"white\",\"ticks\":\"\"},\"radialaxis\":{\"gridcolor\":\"white\",\"linecolor\":\"white\",\"ticks\":\"\"}},\"ternary\":{\"bgcolor\":\"#E5ECF6\",\"aaxis\":{\"gridcolor\":\"white\",\"linecolor\":\"white\",\"ticks\":\"\"},\"baxis\":{\"gridcolor\":\"white\",\"linecolor\":\"white\",\"ticks\":\"\"},\"caxis\":{\"gridcolor\":\"white\",\"linecolor\":\"white\",\"ticks\":\"\"}},\"coloraxis\":{\"colorbar\":{\"outlinewidth\":0,\"ticks\":\"\"}},\"colorscale\":{\"sequential\":[[0.0,\"#0d0887\"],[0.1111111111111111,\"#46039f\"],[0.2222222222222222,\"#7201a8\"],[0.3333333333333333,\"#9c179e\"],[0.4444444444444444,\"#bd3786\"],[0.5555555555555556,\"#d8576b\"],[0.6666666666666666,\"#ed7953\"],[0.7777777777777778,\"#fb9f3a\"],[0.8888888888888888,\"#fdca26\"],[1.0,\"#f0f921\"]],\"sequentialminus\":[[0.0,\"#0d0887\"],[0.1111111111111111,\"#46039f\"],[0.2222222222222222,\"#7201a8\"],[0.3333333333333333,\"#9c179e\"],[0.4444444444444444,\"#bd3786\"],[0.5555555555555556,\"#d8576b\"],[0.6666666666666666,\"#ed7953\"],[0.7777777777777778,\"#fb9f3a\"],[0.8888888888888888,\"#fdca26\"],[1.0,\"#f0f921\"]],\"diverging\":[[0,\"#8e0152\"],[0.1,\"#c51b7d\"],[0.2,\"#de77ae\"],[0.3,\"#f1b6da\"],[0.4,\"#fde0ef\"],[0.5,\"#f7f7f7\"],[0.6,\"#e6f5d0\"],[0.7,\"#b8e186\"],[0.8,\"#7fbc41\"],[0.9,\"#4d9221\"],[1,\"#276419\"]]},\"xaxis\":{\"gridcolor\":\"white\",\"linecolor\":\"white\",\"ticks\":\"\",\"title\":{\"standoff\":15},\"zerolinecolor\":\"white\",\"automargin\":true,\"zerolinewidth\":2},\"yaxis\":{\"gridcolor\":\"white\",\"linecolor\":\"white\",\"ticks\":\"\",\"title\":{\"standoff\":15},\"zerolinecolor\":\"white\",\"automargin\":true,\"zerolinewidth\":2},\"scene\":{\"xaxis\":{\"backgroundcolor\":\"#E5ECF6\",\"gridcolor\":\"white\",\"linecolor\":\"white\",\"showbackground\":true,\"ticks\":\"\",\"zerolinecolor\":\"white\",\"gridwidth\":2},\"yaxis\":{\"backgroundcolor\":\"#E5ECF6\",\"gridcolor\":\"white\",\"linecolor\":\"white\",\"showbackground\":true,\"ticks\":\"\",\"zerolinecolor\":\"white\",\"gridwidth\":2},\"zaxis\":{\"backgroundcolor\":\"#E5ECF6\",\"gridcolor\":\"white\",\"linecolor\":\"white\",\"showbackground\":true,\"ticks\":\"\",\"zerolinecolor\":\"white\",\"gridwidth\":2}},\"shapedefaults\":{\"line\":{\"color\":\"#2a3f5f\"}},\"annotationdefaults\":{\"arrowcolor\":\"#2a3f5f\",\"arrowhead\":0,\"arrowwidth\":1},\"geo\":{\"bgcolor\":\"white\",\"landcolor\":\"#E5ECF6\",\"subunitcolor\":\"white\",\"showland\":true,\"showlakes\":true,\"lakecolor\":\"white\"},\"title\":{\"x\":0.05},\"mapbox\":{\"style\":\"light\"}}},\"legend\":{\"tracegroupgap\":0},\"margin\":{\"t\":60},\"height\":1000,\"width\":1000},                        {\"responsive\": true}                    ).then(function(){\n",
       "                            \n",
       "var gd = document.getElementById('8dfd2034-dfcd-420e-901a-377c40069962');\n",
       "var x = new MutationObserver(function (mutations, observer) {{\n",
       "        var display = window.getComputedStyle(gd).display;\n",
       "        if (!display || display === 'none') {{\n",
       "            console.log([gd, 'removed!']);\n",
       "            Plotly.purge(gd);\n",
       "            observer.disconnect();\n",
       "        }}\n",
       "}});\n",
       "\n",
       "// Listen for the removal of the full notebook cells\n",
       "var notebookContainer = gd.closest('#notebook-container');\n",
       "if (notebookContainer) {{\n",
       "    x.observe(notebookContainer, {childList: true});\n",
       "}}\n",
       "\n",
       "// Listen for the clearing of the current output cell\n",
       "var outputEl = gd.closest('.output');\n",
       "if (outputEl) {{\n",
       "    x.observe(outputEl, {childList: true});\n",
       "}}\n",
       "\n",
       "                        })                };                });            </script>        </div>"
      ]
     },
     "metadata": {},
     "output_type": "display_data"
    }
   ],
   "source": [
    "fig = px.sunburst(\n",
    "    df, \n",
    "    path=df.columns[:-1], \n",
    "    values=\"occupancy\", \n",
    "    width=1000, \n",
    "    height=1000,\n",
    "    color=1)\n",
    "\n",
    "## set marker colors whose labels are \" \" to transparent\n",
    "marker_colors = list(fig.data[0].marker['colors'])\n",
    "marker_labels = list(fig.data[0]['labels'])\n",
    "new_marker_colors = [\"rgba(0,0,0,0)\" if label==\" \" else color for (color, label) in zip(marker_colors, marker_labels)]\n",
    "marker_colors = new_marker_colors\n",
    "\n",
    "fig.data[0].marker['colors'] = marker_colors\n",
    "fig.show()"
   ]
  },
  {
   "cell_type": "code",
   "execution_count": null,
   "id": "07154b6a",
   "metadata": {},
   "outputs": [],
   "source": []
  },
  {
   "cell_type": "code",
   "execution_count": 78,
   "id": "37749b6d",
   "metadata": {
    "scrolled": false
   },
   "outputs": [
    {
     "data": {
      "application/vnd.plotly.v1+json": {
       "config": {
        "plotlyServerURL": "https://plot.ly"
       },
       "data": [
        {
         "branchvalues": "total",
         "domain": {
          "x": [
           0,
           1
          ],
          "y": [
           0,
           1
          ]
         },
         "hovertemplate": "labels=%{label}<br>occupancy=%{value}<br>parent=%{parent}<br>id=%{id}<extra></extra>",
         "ids": [
          "discover/end/ / / / ",
          "discover/camera/end/ / / ",
          "discover/photos/end/ / / ",
          "discover/profile/end/ / / ",
          "discover/upgrade/end/ / / ",
          "discover/camera/discover/end/ / ",
          "discover/project/discover/end/ / ",
          "discover/samples/editor/end/ / ",
          "discover/profile/discover/camera/end/ ",
          "discover/photos/usephoto/discover/end/ ",
          "discover/camera/discover/photos/end/ ",
          "discover/profile/discover/photos/end/ ",
          "discover/photos/usephoto/removebackground/end/ ",
          "discover/photos/usephoto/removebackground/nextremove/crop",
          "discover/photos/usephoto/nextbutton/crop/editor",
          "discover/photos/usephoto/removebackground/nextremove/editor",
          "discover/project/collection/project/discover/end",
          "discover/photos/usephoto/nextbutton/editor/share",
          "discover/end/ / / ",
          "discover/camera/end/ / ",
          "discover/photos/end/ / ",
          "discover/profile/end/ / ",
          "discover/upgrade/end/ / ",
          "discover/camera/discover/end/ ",
          "discover/project/discover/end/ ",
          "discover/samples/editor/end/ ",
          "discover/photos/usephoto/nextbutton/crop",
          "discover/project/collection/project/discover",
          "discover/photos/usephoto/nextbutton/editor",
          "discover/profile/discover/camera/end",
          "discover/photos/usephoto/discover/end",
          "discover/camera/discover/photos/end",
          "discover/profile/discover/photos/end",
          "discover/photos/usephoto/removebackground/end",
          "discover/photos/usephoto/removebackground/nextremove",
          "discover/end/ / ",
          "discover/camera/end/ ",
          "discover/photos/end/ ",
          "discover/profile/end/ ",
          "discover/upgrade/end/ ",
          "discover/profile/discover/camera",
          "discover/photos/usephoto/discover",
          "discover/camera/discover/end",
          "discover/project/discover/end",
          "discover/samples/editor/end",
          "discover/photos/usephoto/nextbutton",
          "discover/camera/discover/photos",
          "discover/profile/discover/photos",
          "discover/project/collection/project",
          "discover/photos/usephoto/removebackground",
          "discover/end/ ",
          "discover/project/collection",
          "discover/camera/discover",
          "discover/profile/discover",
          "discover/project/discover",
          "discover/samples/editor",
          "discover/camera/end",
          "discover/photos/end",
          "discover/profile/end",
          "discover/upgrade/end",
          "discover/photos/usephoto",
          "discover/camera",
          "discover/end",
          "discover/photos",
          "discover/profile",
          "discover/project",
          "discover/samples",
          "discover/upgrade",
          "discover"
         ],
         "labels": [
          " ",
          " ",
          " ",
          " ",
          " ",
          " ",
          " ",
          " ",
          " ",
          " ",
          " ",
          " ",
          " ",
          "crop",
          "editor",
          "editor",
          "end",
          "share",
          " ",
          " ",
          " ",
          " ",
          " ",
          " ",
          " ",
          " ",
          "crop",
          "discover",
          "editor",
          "end",
          "end",
          "end",
          "end",
          "end",
          "nextremove",
          " ",
          " ",
          " ",
          " ",
          " ",
          "camera",
          "discover",
          "end",
          "end",
          "end",
          "nextbutton",
          "photos",
          "photos",
          "project",
          "removebackground",
          " ",
          "collection",
          "discover",
          "discover",
          "discover",
          "editor",
          "end",
          "end",
          "end",
          "end",
          "usephoto",
          "camera",
          "end",
          "photos",
          "profile",
          "project",
          "samples",
          "upgrade",
          "discover"
         ],
         "name": "",
         "parents": [
          "discover/end/ / / ",
          "discover/camera/end/ / ",
          "discover/photos/end/ / ",
          "discover/profile/end/ / ",
          "discover/upgrade/end/ / ",
          "discover/camera/discover/end/ ",
          "discover/project/discover/end/ ",
          "discover/samples/editor/end/ ",
          "discover/profile/discover/camera/end",
          "discover/photos/usephoto/discover/end",
          "discover/camera/discover/photos/end",
          "discover/profile/discover/photos/end",
          "discover/photos/usephoto/removebackground/end",
          "discover/photos/usephoto/removebackground/nextremove",
          "discover/photos/usephoto/nextbutton/crop",
          "discover/photos/usephoto/removebackground/nextremove",
          "discover/project/collection/project/discover",
          "discover/photos/usephoto/nextbutton/editor",
          "discover/end/ / ",
          "discover/camera/end/ ",
          "discover/photos/end/ ",
          "discover/profile/end/ ",
          "discover/upgrade/end/ ",
          "discover/camera/discover/end",
          "discover/project/discover/end",
          "discover/samples/editor/end",
          "discover/photos/usephoto/nextbutton",
          "discover/project/collection/project",
          "discover/photos/usephoto/nextbutton",
          "discover/profile/discover/camera",
          "discover/photos/usephoto/discover",
          "discover/camera/discover/photos",
          "discover/profile/discover/photos",
          "discover/photos/usephoto/removebackground",
          "discover/photos/usephoto/removebackground",
          "discover/end/ ",
          "discover/camera/end",
          "discover/photos/end",
          "discover/profile/end",
          "discover/upgrade/end",
          "discover/profile/discover",
          "discover/photos/usephoto",
          "discover/camera/discover",
          "discover/project/discover",
          "discover/samples/editor",
          "discover/photos/usephoto",
          "discover/camera/discover",
          "discover/profile/discover",
          "discover/project/collection",
          "discover/photos/usephoto",
          "discover/end",
          "discover/project",
          "discover/camera",
          "discover/profile",
          "discover/project",
          "discover/samples",
          "discover/camera",
          "discover/photos",
          "discover/profile",
          "discover/upgrade",
          "discover/photos",
          "discover",
          "discover",
          "discover",
          "discover",
          "discover",
          "discover",
          "discover",
          ""
         ],
         "type": "sunburst",
         "values": [
          2,
          40,
          1,
          0.1,
          2,
          1,
          7.000000000000001,
          8,
          0.2,
          1,
          4,
          0.2,
          4,
          4,
          7.000000000000001,
          17,
          0.5,
          1,
          2,
          40,
          1,
          0.1,
          2,
          1,
          7.000000000000001,
          8,
          7.000000000000001,
          0.5,
          1,
          0.2,
          1,
          4,
          0.2,
          4,
          21,
          2,
          40,
          1,
          0.1,
          2,
          0.2,
          1,
          1,
          7.000000000000001,
          8,
          8,
          4,
          0.2,
          0.5,
          25,
          2,
          0.5,
          5,
          0.4,
          7.000000000000001,
          8,
          40,
          1,
          0.1,
          2,
          34,
          45,
          2,
          35,
          0.5,
          7.500000000000001,
          8,
          2,
          100
         ]
        }
       ],
       "layout": {
        "height": 1000,
        "legend": {
         "tracegroupgap": 0
        },
        "margin": {
         "t": 60
        },
        "template": {
         "data": {
          "bar": [
           {
            "error_x": {
             "color": "#2a3f5f"
            },
            "error_y": {
             "color": "#2a3f5f"
            },
            "marker": {
             "line": {
              "color": "#E5ECF6",
              "width": 0.5
             },
             "pattern": {
              "fillmode": "overlay",
              "size": 10,
              "solidity": 0.2
             }
            },
            "type": "bar"
           }
          ],
          "barpolar": [
           {
            "marker": {
             "line": {
              "color": "#E5ECF6",
              "width": 0.5
             },
             "pattern": {
              "fillmode": "overlay",
              "size": 10,
              "solidity": 0.2
             }
            },
            "type": "barpolar"
           }
          ],
          "carpet": [
           {
            "aaxis": {
             "endlinecolor": "#2a3f5f",
             "gridcolor": "white",
             "linecolor": "white",
             "minorgridcolor": "white",
             "startlinecolor": "#2a3f5f"
            },
            "baxis": {
             "endlinecolor": "#2a3f5f",
             "gridcolor": "white",
             "linecolor": "white",
             "minorgridcolor": "white",
             "startlinecolor": "#2a3f5f"
            },
            "type": "carpet"
           }
          ],
          "choropleth": [
           {
            "colorbar": {
             "outlinewidth": 0,
             "ticks": ""
            },
            "type": "choropleth"
           }
          ],
          "contour": [
           {
            "colorbar": {
             "outlinewidth": 0,
             "ticks": ""
            },
            "colorscale": [
             [
              0,
              "#0d0887"
             ],
             [
              0.1111111111111111,
              "#46039f"
             ],
             [
              0.2222222222222222,
              "#7201a8"
             ],
             [
              0.3333333333333333,
              "#9c179e"
             ],
             [
              0.4444444444444444,
              "#bd3786"
             ],
             [
              0.5555555555555556,
              "#d8576b"
             ],
             [
              0.6666666666666666,
              "#ed7953"
             ],
             [
              0.7777777777777778,
              "#fb9f3a"
             ],
             [
              0.8888888888888888,
              "#fdca26"
             ],
             [
              1,
              "#f0f921"
             ]
            ],
            "type": "contour"
           }
          ],
          "contourcarpet": [
           {
            "colorbar": {
             "outlinewidth": 0,
             "ticks": ""
            },
            "type": "contourcarpet"
           }
          ],
          "heatmap": [
           {
            "colorbar": {
             "outlinewidth": 0,
             "ticks": ""
            },
            "colorscale": [
             [
              0,
              "#0d0887"
             ],
             [
              0.1111111111111111,
              "#46039f"
             ],
             [
              0.2222222222222222,
              "#7201a8"
             ],
             [
              0.3333333333333333,
              "#9c179e"
             ],
             [
              0.4444444444444444,
              "#bd3786"
             ],
             [
              0.5555555555555556,
              "#d8576b"
             ],
             [
              0.6666666666666666,
              "#ed7953"
             ],
             [
              0.7777777777777778,
              "#fb9f3a"
             ],
             [
              0.8888888888888888,
              "#fdca26"
             ],
             [
              1,
              "#f0f921"
             ]
            ],
            "type": "heatmap"
           }
          ],
          "heatmapgl": [
           {
            "colorbar": {
             "outlinewidth": 0,
             "ticks": ""
            },
            "colorscale": [
             [
              0,
              "#0d0887"
             ],
             [
              0.1111111111111111,
              "#46039f"
             ],
             [
              0.2222222222222222,
              "#7201a8"
             ],
             [
              0.3333333333333333,
              "#9c179e"
             ],
             [
              0.4444444444444444,
              "#bd3786"
             ],
             [
              0.5555555555555556,
              "#d8576b"
             ],
             [
              0.6666666666666666,
              "#ed7953"
             ],
             [
              0.7777777777777778,
              "#fb9f3a"
             ],
             [
              0.8888888888888888,
              "#fdca26"
             ],
             [
              1,
              "#f0f921"
             ]
            ],
            "type": "heatmapgl"
           }
          ],
          "histogram": [
           {
            "marker": {
             "pattern": {
              "fillmode": "overlay",
              "size": 10,
              "solidity": 0.2
             }
            },
            "type": "histogram"
           }
          ],
          "histogram2d": [
           {
            "colorbar": {
             "outlinewidth": 0,
             "ticks": ""
            },
            "colorscale": [
             [
              0,
              "#0d0887"
             ],
             [
              0.1111111111111111,
              "#46039f"
             ],
             [
              0.2222222222222222,
              "#7201a8"
             ],
             [
              0.3333333333333333,
              "#9c179e"
             ],
             [
              0.4444444444444444,
              "#bd3786"
             ],
             [
              0.5555555555555556,
              "#d8576b"
             ],
             [
              0.6666666666666666,
              "#ed7953"
             ],
             [
              0.7777777777777778,
              "#fb9f3a"
             ],
             [
              0.8888888888888888,
              "#fdca26"
             ],
             [
              1,
              "#f0f921"
             ]
            ],
            "type": "histogram2d"
           }
          ],
          "histogram2dcontour": [
           {
            "colorbar": {
             "outlinewidth": 0,
             "ticks": ""
            },
            "colorscale": [
             [
              0,
              "#0d0887"
             ],
             [
              0.1111111111111111,
              "#46039f"
             ],
             [
              0.2222222222222222,
              "#7201a8"
             ],
             [
              0.3333333333333333,
              "#9c179e"
             ],
             [
              0.4444444444444444,
              "#bd3786"
             ],
             [
              0.5555555555555556,
              "#d8576b"
             ],
             [
              0.6666666666666666,
              "#ed7953"
             ],
             [
              0.7777777777777778,
              "#fb9f3a"
             ],
             [
              0.8888888888888888,
              "#fdca26"
             ],
             [
              1,
              "#f0f921"
             ]
            ],
            "type": "histogram2dcontour"
           }
          ],
          "mesh3d": [
           {
            "colorbar": {
             "outlinewidth": 0,
             "ticks": ""
            },
            "type": "mesh3d"
           }
          ],
          "parcoords": [
           {
            "line": {
             "colorbar": {
              "outlinewidth": 0,
              "ticks": ""
             }
            },
            "type": "parcoords"
           }
          ],
          "pie": [
           {
            "automargin": true,
            "type": "pie"
           }
          ],
          "scatter": [
           {
            "fillpattern": {
             "fillmode": "overlay",
             "size": 10,
             "solidity": 0.2
            },
            "type": "scatter"
           }
          ],
          "scatter3d": [
           {
            "line": {
             "colorbar": {
              "outlinewidth": 0,
              "ticks": ""
             }
            },
            "marker": {
             "colorbar": {
              "outlinewidth": 0,
              "ticks": ""
             }
            },
            "type": "scatter3d"
           }
          ],
          "scattercarpet": [
           {
            "marker": {
             "colorbar": {
              "outlinewidth": 0,
              "ticks": ""
             }
            },
            "type": "scattercarpet"
           }
          ],
          "scattergeo": [
           {
            "marker": {
             "colorbar": {
              "outlinewidth": 0,
              "ticks": ""
             }
            },
            "type": "scattergeo"
           }
          ],
          "scattergl": [
           {
            "marker": {
             "colorbar": {
              "outlinewidth": 0,
              "ticks": ""
             }
            },
            "type": "scattergl"
           }
          ],
          "scattermapbox": [
           {
            "marker": {
             "colorbar": {
              "outlinewidth": 0,
              "ticks": ""
             }
            },
            "type": "scattermapbox"
           }
          ],
          "scatterpolar": [
           {
            "marker": {
             "colorbar": {
              "outlinewidth": 0,
              "ticks": ""
             }
            },
            "type": "scatterpolar"
           }
          ],
          "scatterpolargl": [
           {
            "marker": {
             "colorbar": {
              "outlinewidth": 0,
              "ticks": ""
             }
            },
            "type": "scatterpolargl"
           }
          ],
          "scatterternary": [
           {
            "marker": {
             "colorbar": {
              "outlinewidth": 0,
              "ticks": ""
             }
            },
            "type": "scatterternary"
           }
          ],
          "surface": [
           {
            "colorbar": {
             "outlinewidth": 0,
             "ticks": ""
            },
            "colorscale": [
             [
              0,
              "#0d0887"
             ],
             [
              0.1111111111111111,
              "#46039f"
             ],
             [
              0.2222222222222222,
              "#7201a8"
             ],
             [
              0.3333333333333333,
              "#9c179e"
             ],
             [
              0.4444444444444444,
              "#bd3786"
             ],
             [
              0.5555555555555556,
              "#d8576b"
             ],
             [
              0.6666666666666666,
              "#ed7953"
             ],
             [
              0.7777777777777778,
              "#fb9f3a"
             ],
             [
              0.8888888888888888,
              "#fdca26"
             ],
             [
              1,
              "#f0f921"
             ]
            ],
            "type": "surface"
           }
          ],
          "table": [
           {
            "cells": {
             "fill": {
              "color": "#EBF0F8"
             },
             "line": {
              "color": "white"
             }
            },
            "header": {
             "fill": {
              "color": "#C8D4E3"
             },
             "line": {
              "color": "white"
             }
            },
            "type": "table"
           }
          ]
         },
         "layout": {
          "annotationdefaults": {
           "arrowcolor": "#2a3f5f",
           "arrowhead": 0,
           "arrowwidth": 1
          },
          "autotypenumbers": "strict",
          "coloraxis": {
           "colorbar": {
            "outlinewidth": 0,
            "ticks": ""
           }
          },
          "colorscale": {
           "diverging": [
            [
             0,
             "#8e0152"
            ],
            [
             0.1,
             "#c51b7d"
            ],
            [
             0.2,
             "#de77ae"
            ],
            [
             0.3,
             "#f1b6da"
            ],
            [
             0.4,
             "#fde0ef"
            ],
            [
             0.5,
             "#f7f7f7"
            ],
            [
             0.6,
             "#e6f5d0"
            ],
            [
             0.7,
             "#b8e186"
            ],
            [
             0.8,
             "#7fbc41"
            ],
            [
             0.9,
             "#4d9221"
            ],
            [
             1,
             "#276419"
            ]
           ],
           "sequential": [
            [
             0,
             "#0d0887"
            ],
            [
             0.1111111111111111,
             "#46039f"
            ],
            [
             0.2222222222222222,
             "#7201a8"
            ],
            [
             0.3333333333333333,
             "#9c179e"
            ],
            [
             0.4444444444444444,
             "#bd3786"
            ],
            [
             0.5555555555555556,
             "#d8576b"
            ],
            [
             0.6666666666666666,
             "#ed7953"
            ],
            [
             0.7777777777777778,
             "#fb9f3a"
            ],
            [
             0.8888888888888888,
             "#fdca26"
            ],
            [
             1,
             "#f0f921"
            ]
           ],
           "sequentialminus": [
            [
             0,
             "#0d0887"
            ],
            [
             0.1111111111111111,
             "#46039f"
            ],
            [
             0.2222222222222222,
             "#7201a8"
            ],
            [
             0.3333333333333333,
             "#9c179e"
            ],
            [
             0.4444444444444444,
             "#bd3786"
            ],
            [
             0.5555555555555556,
             "#d8576b"
            ],
            [
             0.6666666666666666,
             "#ed7953"
            ],
            [
             0.7777777777777778,
             "#fb9f3a"
            ],
            [
             0.8888888888888888,
             "#fdca26"
            ],
            [
             1,
             "#f0f921"
            ]
           ]
          },
          "colorway": [
           "#636efa",
           "#EF553B",
           "#00cc96",
           "#ab63fa",
           "#FFA15A",
           "#19d3f3",
           "#FF6692",
           "#B6E880",
           "#FF97FF",
           "#FECB52"
          ],
          "font": {
           "color": "#2a3f5f"
          },
          "geo": {
           "bgcolor": "white",
           "lakecolor": "white",
           "landcolor": "#E5ECF6",
           "showlakes": true,
           "showland": true,
           "subunitcolor": "white"
          },
          "hoverlabel": {
           "align": "left"
          },
          "hovermode": "closest",
          "mapbox": {
           "style": "light"
          },
          "paper_bgcolor": "white",
          "plot_bgcolor": "#E5ECF6",
          "polar": {
           "angularaxis": {
            "gridcolor": "white",
            "linecolor": "white",
            "ticks": ""
           },
           "bgcolor": "#E5ECF6",
           "radialaxis": {
            "gridcolor": "white",
            "linecolor": "white",
            "ticks": ""
           }
          },
          "scene": {
           "xaxis": {
            "backgroundcolor": "#E5ECF6",
            "gridcolor": "white",
            "gridwidth": 2,
            "linecolor": "white",
            "showbackground": true,
            "ticks": "",
            "zerolinecolor": "white"
           },
           "yaxis": {
            "backgroundcolor": "#E5ECF6",
            "gridcolor": "white",
            "gridwidth": 2,
            "linecolor": "white",
            "showbackground": true,
            "ticks": "",
            "zerolinecolor": "white"
           },
           "zaxis": {
            "backgroundcolor": "#E5ECF6",
            "gridcolor": "white",
            "gridwidth": 2,
            "linecolor": "white",
            "showbackground": true,
            "ticks": "",
            "zerolinecolor": "white"
           }
          },
          "shapedefaults": {
           "line": {
            "color": "#2a3f5f"
           }
          },
          "ternary": {
           "aaxis": {
            "gridcolor": "white",
            "linecolor": "white",
            "ticks": ""
           },
           "baxis": {
            "gridcolor": "white",
            "linecolor": "white",
            "ticks": ""
           },
           "bgcolor": "#E5ECF6",
           "caxis": {
            "gridcolor": "white",
            "linecolor": "white",
            "ticks": ""
           }
          },
          "title": {
           "x": 0.05
          },
          "xaxis": {
           "automargin": true,
           "gridcolor": "white",
           "linecolor": "white",
           "ticks": "",
           "title": {
            "standoff": 15
           },
           "zerolinecolor": "white",
           "zerolinewidth": 2
          },
          "yaxis": {
           "automargin": true,
           "gridcolor": "white",
           "linecolor": "white",
           "ticks": "",
           "title": {
            "standoff": 15
           },
           "zerolinecolor": "white",
           "zerolinewidth": 2
          }
         }
        },
        "width": 1000
       }
      },
      "text/html": [
       "<div>                            <div id=\"37bef500-744a-46a5-ab16-b86eccc13c92\" class=\"plotly-graph-div\" style=\"height:1000px; width:1000px;\"></div>            <script type=\"text/javascript\">                require([\"plotly\"], function(Plotly) {                    window.PLOTLYENV=window.PLOTLYENV || {};                                    if (document.getElementById(\"37bef500-744a-46a5-ab16-b86eccc13c92\")) {                    Plotly.newPlot(                        \"37bef500-744a-46a5-ab16-b86eccc13c92\",                        [{\"branchvalues\":\"total\",\"domain\":{\"x\":[0.0,1.0],\"y\":[0.0,1.0]},\"hovertemplate\":\"labels=%{label}<br>occupancy=%{value}<br>parent=%{parent}<br>id=%{id}<extra></extra>\",\"ids\":[\"discover/end/ / / / \",\"discover/camera/end/ / / \",\"discover/photos/end/ / / \",\"discover/profile/end/ / / \",\"discover/upgrade/end/ / / \",\"discover/camera/discover/end/ / \",\"discover/project/discover/end/ / \",\"discover/samples/editor/end/ / \",\"discover/profile/discover/camera/end/ \",\"discover/photos/usephoto/discover/end/ \",\"discover/camera/discover/photos/end/ \",\"discover/profile/discover/photos/end/ \",\"discover/photos/usephoto/removebackground/end/ \",\"discover/photos/usephoto/removebackground/nextremove/crop\",\"discover/photos/usephoto/nextbutton/crop/editor\",\"discover/photos/usephoto/removebackground/nextremove/editor\",\"discover/project/collection/project/discover/end\",\"discover/photos/usephoto/nextbutton/editor/share\",\"discover/end/ / / \",\"discover/camera/end/ / \",\"discover/photos/end/ / \",\"discover/profile/end/ / \",\"discover/upgrade/end/ / \",\"discover/camera/discover/end/ \",\"discover/project/discover/end/ \",\"discover/samples/editor/end/ \",\"discover/photos/usephoto/nextbutton/crop\",\"discover/project/collection/project/discover\",\"discover/photos/usephoto/nextbutton/editor\",\"discover/profile/discover/camera/end\",\"discover/photos/usephoto/discover/end\",\"discover/camera/discover/photos/end\",\"discover/profile/discover/photos/end\",\"discover/photos/usephoto/removebackground/end\",\"discover/photos/usephoto/removebackground/nextremove\",\"discover/end/ / \",\"discover/camera/end/ \",\"discover/photos/end/ \",\"discover/profile/end/ \",\"discover/upgrade/end/ \",\"discover/profile/discover/camera\",\"discover/photos/usephoto/discover\",\"discover/camera/discover/end\",\"discover/project/discover/end\",\"discover/samples/editor/end\",\"discover/photos/usephoto/nextbutton\",\"discover/camera/discover/photos\",\"discover/profile/discover/photos\",\"discover/project/collection/project\",\"discover/photos/usephoto/removebackground\",\"discover/end/ \",\"discover/project/collection\",\"discover/camera/discover\",\"discover/profile/discover\",\"discover/project/discover\",\"discover/samples/editor\",\"discover/camera/end\",\"discover/photos/end\",\"discover/profile/end\",\"discover/upgrade/end\",\"discover/photos/usephoto\",\"discover/camera\",\"discover/end\",\"discover/photos\",\"discover/profile\",\"discover/project\",\"discover/samples\",\"discover/upgrade\",\"discover\"],\"labels\":[\" \",\" \",\" \",\" \",\" \",\" \",\" \",\" \",\" \",\" \",\" \",\" \",\" \",\"crop\",\"editor\",\"editor\",\"end\",\"share\",\" \",\" \",\" \",\" \",\" \",\" \",\" \",\" \",\"crop\",\"discover\",\"editor\",\"end\",\"end\",\"end\",\"end\",\"end\",\"nextremove\",\" \",\" \",\" \",\" \",\" \",\"camera\",\"discover\",\"end\",\"end\",\"end\",\"nextbutton\",\"photos\",\"photos\",\"project\",\"removebackground\",\" \",\"collection\",\"discover\",\"discover\",\"discover\",\"editor\",\"end\",\"end\",\"end\",\"end\",\"usephoto\",\"camera\",\"end\",\"photos\",\"profile\",\"project\",\"samples\",\"upgrade\",\"discover\"],\"name\":\"\",\"parents\":[\"discover/end/ / / \",\"discover/camera/end/ / \",\"discover/photos/end/ / \",\"discover/profile/end/ / \",\"discover/upgrade/end/ / \",\"discover/camera/discover/end/ \",\"discover/project/discover/end/ \",\"discover/samples/editor/end/ \",\"discover/profile/discover/camera/end\",\"discover/photos/usephoto/discover/end\",\"discover/camera/discover/photos/end\",\"discover/profile/discover/photos/end\",\"discover/photos/usephoto/removebackground/end\",\"discover/photos/usephoto/removebackground/nextremove\",\"discover/photos/usephoto/nextbutton/crop\",\"discover/photos/usephoto/removebackground/nextremove\",\"discover/project/collection/project/discover\",\"discover/photos/usephoto/nextbutton/editor\",\"discover/end/ / \",\"discover/camera/end/ \",\"discover/photos/end/ \",\"discover/profile/end/ \",\"discover/upgrade/end/ \",\"discover/camera/discover/end\",\"discover/project/discover/end\",\"discover/samples/editor/end\",\"discover/photos/usephoto/nextbutton\",\"discover/project/collection/project\",\"discover/photos/usephoto/nextbutton\",\"discover/profile/discover/camera\",\"discover/photos/usephoto/discover\",\"discover/camera/discover/photos\",\"discover/profile/discover/photos\",\"discover/photos/usephoto/removebackground\",\"discover/photos/usephoto/removebackground\",\"discover/end/ \",\"discover/camera/end\",\"discover/photos/end\",\"discover/profile/end\",\"discover/upgrade/end\",\"discover/profile/discover\",\"discover/photos/usephoto\",\"discover/camera/discover\",\"discover/project/discover\",\"discover/samples/editor\",\"discover/photos/usephoto\",\"discover/camera/discover\",\"discover/profile/discover\",\"discover/project/collection\",\"discover/photos/usephoto\",\"discover/end\",\"discover/project\",\"discover/camera\",\"discover/profile\",\"discover/project\",\"discover/samples\",\"discover/camera\",\"discover/photos\",\"discover/profile\",\"discover/upgrade\",\"discover/photos\",\"discover\",\"discover\",\"discover\",\"discover\",\"discover\",\"discover\",\"discover\",\"\"],\"values\":[2.0,40.0,1.0,0.1,2.0,1.0,7.000000000000001,8.0,0.2,1.0,4.0,0.2,4.0,4.0,7.000000000000001,17.0,0.5,1.0,2.0,40.0,1.0,0.1,2.0,1.0,7.000000000000001,8.0,7.000000000000001,0.5,1.0,0.2,1.0,4.0,0.2,4.0,21.0,2.0,40.0,1.0,0.1,2.0,0.2,1.0,1.0,7.000000000000001,8.0,8.0,4.0,0.2,0.5,25.0,2.0,0.5,5.0,0.4,7.000000000000001,8.0,40.0,1.0,0.1,2.0,34.0,45.0,2.0,35.0,0.5,7.500000000000001,8.0,2.0,100.0],\"type\":\"sunburst\"}],                        {\"template\":{\"data\":{\"histogram2dcontour\":[{\"type\":\"histogram2dcontour\",\"colorbar\":{\"outlinewidth\":0,\"ticks\":\"\"},\"colorscale\":[[0.0,\"#0d0887\"],[0.1111111111111111,\"#46039f\"],[0.2222222222222222,\"#7201a8\"],[0.3333333333333333,\"#9c179e\"],[0.4444444444444444,\"#bd3786\"],[0.5555555555555556,\"#d8576b\"],[0.6666666666666666,\"#ed7953\"],[0.7777777777777778,\"#fb9f3a\"],[0.8888888888888888,\"#fdca26\"],[1.0,\"#f0f921\"]]}],\"choropleth\":[{\"type\":\"choropleth\",\"colorbar\":{\"outlinewidth\":0,\"ticks\":\"\"}}],\"histogram2d\":[{\"type\":\"histogram2d\",\"colorbar\":{\"outlinewidth\":0,\"ticks\":\"\"},\"colorscale\":[[0.0,\"#0d0887\"],[0.1111111111111111,\"#46039f\"],[0.2222222222222222,\"#7201a8\"],[0.3333333333333333,\"#9c179e\"],[0.4444444444444444,\"#bd3786\"],[0.5555555555555556,\"#d8576b\"],[0.6666666666666666,\"#ed7953\"],[0.7777777777777778,\"#fb9f3a\"],[0.8888888888888888,\"#fdca26\"],[1.0,\"#f0f921\"]]}],\"heatmap\":[{\"type\":\"heatmap\",\"colorbar\":{\"outlinewidth\":0,\"ticks\":\"\"},\"colorscale\":[[0.0,\"#0d0887\"],[0.1111111111111111,\"#46039f\"],[0.2222222222222222,\"#7201a8\"],[0.3333333333333333,\"#9c179e\"],[0.4444444444444444,\"#bd3786\"],[0.5555555555555556,\"#d8576b\"],[0.6666666666666666,\"#ed7953\"],[0.7777777777777778,\"#fb9f3a\"],[0.8888888888888888,\"#fdca26\"],[1.0,\"#f0f921\"]]}],\"heatmapgl\":[{\"type\":\"heatmapgl\",\"colorbar\":{\"outlinewidth\":0,\"ticks\":\"\"},\"colorscale\":[[0.0,\"#0d0887\"],[0.1111111111111111,\"#46039f\"],[0.2222222222222222,\"#7201a8\"],[0.3333333333333333,\"#9c179e\"],[0.4444444444444444,\"#bd3786\"],[0.5555555555555556,\"#d8576b\"],[0.6666666666666666,\"#ed7953\"],[0.7777777777777778,\"#fb9f3a\"],[0.8888888888888888,\"#fdca26\"],[1.0,\"#f0f921\"]]}],\"contourcarpet\":[{\"type\":\"contourcarpet\",\"colorbar\":{\"outlinewidth\":0,\"ticks\":\"\"}}],\"contour\":[{\"type\":\"contour\",\"colorbar\":{\"outlinewidth\":0,\"ticks\":\"\"},\"colorscale\":[[0.0,\"#0d0887\"],[0.1111111111111111,\"#46039f\"],[0.2222222222222222,\"#7201a8\"],[0.3333333333333333,\"#9c179e\"],[0.4444444444444444,\"#bd3786\"],[0.5555555555555556,\"#d8576b\"],[0.6666666666666666,\"#ed7953\"],[0.7777777777777778,\"#fb9f3a\"],[0.8888888888888888,\"#fdca26\"],[1.0,\"#f0f921\"]]}],\"surface\":[{\"type\":\"surface\",\"colorbar\":{\"outlinewidth\":0,\"ticks\":\"\"},\"colorscale\":[[0.0,\"#0d0887\"],[0.1111111111111111,\"#46039f\"],[0.2222222222222222,\"#7201a8\"],[0.3333333333333333,\"#9c179e\"],[0.4444444444444444,\"#bd3786\"],[0.5555555555555556,\"#d8576b\"],[0.6666666666666666,\"#ed7953\"],[0.7777777777777778,\"#fb9f3a\"],[0.8888888888888888,\"#fdca26\"],[1.0,\"#f0f921\"]]}],\"mesh3d\":[{\"type\":\"mesh3d\",\"colorbar\":{\"outlinewidth\":0,\"ticks\":\"\"}}],\"scatter\":[{\"fillpattern\":{\"fillmode\":\"overlay\",\"size\":10,\"solidity\":0.2},\"type\":\"scatter\"}],\"parcoords\":[{\"type\":\"parcoords\",\"line\":{\"colorbar\":{\"outlinewidth\":0,\"ticks\":\"\"}}}],\"scatterpolargl\":[{\"type\":\"scatterpolargl\",\"marker\":{\"colorbar\":{\"outlinewidth\":0,\"ticks\":\"\"}}}],\"bar\":[{\"error_x\":{\"color\":\"#2a3f5f\"},\"error_y\":{\"color\":\"#2a3f5f\"},\"marker\":{\"line\":{\"color\":\"#E5ECF6\",\"width\":0.5},\"pattern\":{\"fillmode\":\"overlay\",\"size\":10,\"solidity\":0.2}},\"type\":\"bar\"}],\"scattergeo\":[{\"type\":\"scattergeo\",\"marker\":{\"colorbar\":{\"outlinewidth\":0,\"ticks\":\"\"}}}],\"scatterpolar\":[{\"type\":\"scatterpolar\",\"marker\":{\"colorbar\":{\"outlinewidth\":0,\"ticks\":\"\"}}}],\"histogram\":[{\"marker\":{\"pattern\":{\"fillmode\":\"overlay\",\"size\":10,\"solidity\":0.2}},\"type\":\"histogram\"}],\"scattergl\":[{\"type\":\"scattergl\",\"marker\":{\"colorbar\":{\"outlinewidth\":0,\"ticks\":\"\"}}}],\"scatter3d\":[{\"type\":\"scatter3d\",\"line\":{\"colorbar\":{\"outlinewidth\":0,\"ticks\":\"\"}},\"marker\":{\"colorbar\":{\"outlinewidth\":0,\"ticks\":\"\"}}}],\"scattermapbox\":[{\"type\":\"scattermapbox\",\"marker\":{\"colorbar\":{\"outlinewidth\":0,\"ticks\":\"\"}}}],\"scatterternary\":[{\"type\":\"scatterternary\",\"marker\":{\"colorbar\":{\"outlinewidth\":0,\"ticks\":\"\"}}}],\"scattercarpet\":[{\"type\":\"scattercarpet\",\"marker\":{\"colorbar\":{\"outlinewidth\":0,\"ticks\":\"\"}}}],\"carpet\":[{\"aaxis\":{\"endlinecolor\":\"#2a3f5f\",\"gridcolor\":\"white\",\"linecolor\":\"white\",\"minorgridcolor\":\"white\",\"startlinecolor\":\"#2a3f5f\"},\"baxis\":{\"endlinecolor\":\"#2a3f5f\",\"gridcolor\":\"white\",\"linecolor\":\"white\",\"minorgridcolor\":\"white\",\"startlinecolor\":\"#2a3f5f\"},\"type\":\"carpet\"}],\"table\":[{\"cells\":{\"fill\":{\"color\":\"#EBF0F8\"},\"line\":{\"color\":\"white\"}},\"header\":{\"fill\":{\"color\":\"#C8D4E3\"},\"line\":{\"color\":\"white\"}},\"type\":\"table\"}],\"barpolar\":[{\"marker\":{\"line\":{\"color\":\"#E5ECF6\",\"width\":0.5},\"pattern\":{\"fillmode\":\"overlay\",\"size\":10,\"solidity\":0.2}},\"type\":\"barpolar\"}],\"pie\":[{\"automargin\":true,\"type\":\"pie\"}]},\"layout\":{\"autotypenumbers\":\"strict\",\"colorway\":[\"#636efa\",\"#EF553B\",\"#00cc96\",\"#ab63fa\",\"#FFA15A\",\"#19d3f3\",\"#FF6692\",\"#B6E880\",\"#FF97FF\",\"#FECB52\"],\"font\":{\"color\":\"#2a3f5f\"},\"hovermode\":\"closest\",\"hoverlabel\":{\"align\":\"left\"},\"paper_bgcolor\":\"white\",\"plot_bgcolor\":\"#E5ECF6\",\"polar\":{\"bgcolor\":\"#E5ECF6\",\"angularaxis\":{\"gridcolor\":\"white\",\"linecolor\":\"white\",\"ticks\":\"\"},\"radialaxis\":{\"gridcolor\":\"white\",\"linecolor\":\"white\",\"ticks\":\"\"}},\"ternary\":{\"bgcolor\":\"#E5ECF6\",\"aaxis\":{\"gridcolor\":\"white\",\"linecolor\":\"white\",\"ticks\":\"\"},\"baxis\":{\"gridcolor\":\"white\",\"linecolor\":\"white\",\"ticks\":\"\"},\"caxis\":{\"gridcolor\":\"white\",\"linecolor\":\"white\",\"ticks\":\"\"}},\"coloraxis\":{\"colorbar\":{\"outlinewidth\":0,\"ticks\":\"\"}},\"colorscale\":{\"sequential\":[[0.0,\"#0d0887\"],[0.1111111111111111,\"#46039f\"],[0.2222222222222222,\"#7201a8\"],[0.3333333333333333,\"#9c179e\"],[0.4444444444444444,\"#bd3786\"],[0.5555555555555556,\"#d8576b\"],[0.6666666666666666,\"#ed7953\"],[0.7777777777777778,\"#fb9f3a\"],[0.8888888888888888,\"#fdca26\"],[1.0,\"#f0f921\"]],\"sequentialminus\":[[0.0,\"#0d0887\"],[0.1111111111111111,\"#46039f\"],[0.2222222222222222,\"#7201a8\"],[0.3333333333333333,\"#9c179e\"],[0.4444444444444444,\"#bd3786\"],[0.5555555555555556,\"#d8576b\"],[0.6666666666666666,\"#ed7953\"],[0.7777777777777778,\"#fb9f3a\"],[0.8888888888888888,\"#fdca26\"],[1.0,\"#f0f921\"]],\"diverging\":[[0,\"#8e0152\"],[0.1,\"#c51b7d\"],[0.2,\"#de77ae\"],[0.3,\"#f1b6da\"],[0.4,\"#fde0ef\"],[0.5,\"#f7f7f7\"],[0.6,\"#e6f5d0\"],[0.7,\"#b8e186\"],[0.8,\"#7fbc41\"],[0.9,\"#4d9221\"],[1,\"#276419\"]]},\"xaxis\":{\"gridcolor\":\"white\",\"linecolor\":\"white\",\"ticks\":\"\",\"title\":{\"standoff\":15},\"zerolinecolor\":\"white\",\"automargin\":true,\"zerolinewidth\":2},\"yaxis\":{\"gridcolor\":\"white\",\"linecolor\":\"white\",\"ticks\":\"\",\"title\":{\"standoff\":15},\"zerolinecolor\":\"white\",\"automargin\":true,\"zerolinewidth\":2},\"scene\":{\"xaxis\":{\"backgroundcolor\":\"#E5ECF6\",\"gridcolor\":\"white\",\"linecolor\":\"white\",\"showbackground\":true,\"ticks\":\"\",\"zerolinecolor\":\"white\",\"gridwidth\":2},\"yaxis\":{\"backgroundcolor\":\"#E5ECF6\",\"gridcolor\":\"white\",\"linecolor\":\"white\",\"showbackground\":true,\"ticks\":\"\",\"zerolinecolor\":\"white\",\"gridwidth\":2},\"zaxis\":{\"backgroundcolor\":\"#E5ECF6\",\"gridcolor\":\"white\",\"linecolor\":\"white\",\"showbackground\":true,\"ticks\":\"\",\"zerolinecolor\":\"white\",\"gridwidth\":2}},\"shapedefaults\":{\"line\":{\"color\":\"#2a3f5f\"}},\"annotationdefaults\":{\"arrowcolor\":\"#2a3f5f\",\"arrowhead\":0,\"arrowwidth\":1},\"geo\":{\"bgcolor\":\"white\",\"landcolor\":\"#E5ECF6\",\"subunitcolor\":\"white\",\"showland\":true,\"showlakes\":true,\"lakecolor\":\"white\"},\"title\":{\"x\":0.05},\"mapbox\":{\"style\":\"light\"}}},\"legend\":{\"tracegroupgap\":0},\"margin\":{\"t\":60},\"height\":1000,\"width\":1000},                        {\"responsive\": true}                    ).then(function(){\n",
       "                            \n",
       "var gd = document.getElementById('37bef500-744a-46a5-ab16-b86eccc13c92');\n",
       "var x = new MutationObserver(function (mutations, observer) {{\n",
       "        var display = window.getComputedStyle(gd).display;\n",
       "        if (!display || display === 'none') {{\n",
       "            console.log([gd, 'removed!']);\n",
       "            Plotly.purge(gd);\n",
       "            observer.disconnect();\n",
       "        }}\n",
       "}});\n",
       "\n",
       "// Listen for the removal of the full notebook cells\n",
       "var notebookContainer = gd.closest('#notebook-container');\n",
       "if (notebookContainer) {{\n",
       "    x.observe(notebookContainer, {childList: true});\n",
       "}}\n",
       "\n",
       "// Listen for the clearing of the current output cell\n",
       "var outputEl = gd.closest('.output');\n",
       "if (outputEl) {{\n",
       "    x.observe(outputEl, {childList: true});\n",
       "}}\n",
       "\n",
       "                        })                };                });            </script>        </div>"
      ]
     },
     "metadata": {},
     "output_type": "display_data"
    }
   ],
   "source": [
    "fig = px.sunburst(df, path=df.columns[:-1], values=\"occupancy\", width=1000, height=1000)\n",
    "fig.show()"
   ]
  },
  {
   "cell_type": "code",
   "execution_count": null,
   "id": "ba401e3a",
   "metadata": {},
   "outputs": [],
   "source": []
  }
 ],
 "metadata": {
  "kernelspec": {
   "display_name": "Python 3 (ipykernel)",
   "language": "python",
   "name": "python3"
  },
  "language_info": {
   "codemirror_mode": {
    "name": "ipython",
    "version": 3
   },
   "file_extension": ".py",
   "mimetype": "text/x-python",
   "name": "python",
   "nbconvert_exporter": "python",
   "pygments_lexer": "ipython3",
   "version": "3.8.2"
  }
 },
 "nbformat": 4,
 "nbformat_minor": 5
}
